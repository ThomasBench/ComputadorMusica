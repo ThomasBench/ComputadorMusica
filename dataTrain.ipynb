{
 "cells": [
  {
   "cell_type": "code",
   "execution_count": 1,
   "metadata": {},
   "outputs": [
    {
     "name": "stderr",
     "output_type": "stream",
     "text": [
      "c:\\Users\\bench\\anaconda3\\envs\\p38\\lib\\site-packages\\numpy\\_distributor_init.py:30: UserWarning: loaded more than 1 DLL from .libs:\n",
      "c:\\Users\\bench\\anaconda3\\envs\\p38\\lib\\site-packages\\numpy\\.libs\\libopenblas.PYQHXLVVQ7VESDPUVUADXEVJOBGHJPAY.gfortran-win_amd64.dll\n",
      "c:\\Users\\bench\\anaconda3\\envs\\p38\\lib\\site-packages\\numpy\\.libs\\libopenblas.WCDJNK7YVMPZQ2ME2ZZHJJRJ3JIKNDB7.gfortran-win_amd64.dll\n",
      "  warnings.warn(\"loaded more than 1 DLL from .libs:\\n%s\" %\n",
      "c:\\Users\\bench\\anaconda3\\envs\\p38\\lib\\site-packages\\torchtext\\data\\utils.py:123: UserWarning: Spacy model \"en\" could not be loaded, trying \"en_core_web_sm\" instead\n",
      "  warnings.warn(f'Spacy model \"{language}\" could not be loaded, trying \"{OLD_MODEL_SHORTCUTS[language]}\" instead')\n"
     ]
    }
   ],
   "source": [
    "import pandas as pd\n",
    "import torch\n",
    "from sklearn.model_selection import train_test_split\n",
    "import torch.nn as nn\n",
    "from torch import optim, Tensor\n",
    "import math\n",
    "from tqdm.notebook import tqdm\n",
    "from chords_dataset import ChordsDataset\n",
    "from model_helpers import NLP\n",
    "from model import Transformer\n",
    "device = torch.device(\"cuda\" if torch.cuda.is_available() else \"cpu\")\n",
    "\n",
    "df = pd.read_csv('./model_data/lyrics_processed.csv')\n",
    "dataset = ChordsDataset(df, NLP)\n",
    "train_i, test_i, validation_i = dataset.get_train_test_valid_indexes(0.9,0.09,0.01)\n",
    "\n",
    "\n",
    "LYR_VOCAB_SIZE = 100\n",
    "EMB_SIZE = LYR_VOCAB_SIZE\n",
    "CHORD_SIZE = len(dataset.chords_set) \n",
    "num_heads = 4\n",
    "num_encoder_layers = 3\n",
    "num_decoder_layers = 3\n",
    "forward_expansion = 2\n",
    "dropout = 0.5\n",
    "max_length = 7038\n",
    "\n",
    "model = Transformer(EMB_SIZE,LYR_VOCAB_SIZE,CHORD_SIZE,15,num_heads,num_encoder_layers, num_decoder_layers, forward_expansion, dropout, max_length,device ).to(device)\n",
    "optimizer = optim.Adam(model.parameters(), lr = 6e-4)\n",
    "criterion = nn.CrossEntropyLoss().to(device)\n"
   ]
  },
  {
   "cell_type": "code",
   "execution_count": 11,
   "metadata": {},
   "outputs": [],
   "source": [
    "\n",
    "def eval_model(dataset: ChordsDataset,validation_indexes:list, model: nn.Module, criterion: nn.Module, device):\n",
    "    model.eval()\n",
    "    loss = 0\n",
    "    nb_elem = len(validation_indexes)\n",
    "    for index in validation_indexes:\n",
    "        elem = dataset[index]\n",
    "        source, target = elem[\"lyrics\"].reshape(-1,1,100).to(device), elem[\"chords\"].reshape(-1,1)\n",
    "        output = model(source, target).reshape(-1,CHORD_SIZE)\n",
    "        target_one_hot= Tensor([dataset.to_one_hot(int(chord)) for chord in target]).to(device)\n",
    "        loss += criterion(output, target_one_hot)\n",
    "    model.train()\n",
    "    return loss/nb_elem\n"
   ]
  },
  {
   "cell_type": "code",
   "execution_count": null,
   "metadata": {},
   "outputs": [],
   "source": [
    "\n",
    "\n",
    "NB_EPOCHS = 3\n",
    "\n",
    "for epoch in range(NB_EPOCHS):\n",
    "    print(f\"[Epoch {epoch}/ {NB_EPOCHS}]\")\n",
    "    model.train()\n",
    "    for i,index in tqdm(enumerate(train_i)):\n",
    "        optimizer.zero_grad()\n",
    "        elem = dataset[index]\n",
    "        source, target = elem[\"lyrics\"].reshape(-1,1,100).to(device), elem[\"chords\"].reshape(-1,1)\n",
    "        output = model(source, target).reshape(-1,CHORD_SIZE)\n",
    "        # optimizer.zero_grad()\n",
    "        target_one_hot=  torch.Tensor([dataset.to_one_hot(int(chord)) for chord in target]).to(device)\n",
    "        loss = criterion(output, target_one_hot)\n",
    "        loss.backward()\n",
    "        torch.nn.utils.clip_grad_norm(model.parameters(), max_norm= 1)\n",
    "        optimizer.step()\n",
    "        if i % 500 == 0:\n",
    "            print(f\"At i = {i} : \",eval_model(dataset, validation_i, model, criterion))"
   ]
  },
  {
   "cell_type": "code",
   "execution_count": 4,
   "metadata": {},
   "outputs": [
    {
     "name": "stdout",
     "output_type": "stream",
     "text": [
      "loaded dataset\n"
     ]
    },
    {
     "data": {
      "text/plain": [
       "<All keys matched successfully>"
      ]
     },
     "execution_count": 4,
     "metadata": {},
     "output_type": "execute_result"
    }
   ],
   "source": [
    "from model_helpers import preprocess_text\n",
    "import json \n",
    "import pandas as pd\n",
    "import torch.nn as nn\n",
    "from torch import Tensor\n",
    "from model import Transformer\n",
    "from chords_dataset import ChordsDataset\n",
    "from model_helpers import NLP\n",
    "import torch\n",
    "\n",
    "def load_chord_dicts(dataset: ChordsDataset, id2chord: dict, chord2id: dict) -> ChordsDataset: \n",
    "    with open(id2chord, mode = \"r\") as f:\n",
    "        dataset.id2chord = {int(i):k for i,k in json.load(f).items()}\n",
    "\n",
    "    with open(chord2id, mode = \"r\") as f:\n",
    "        dataset.chord2id = {i: int(k) for i,k in json.load(f).items()}\n",
    "    return dataset\n",
    "    \n",
    "\n",
    "df = pd.read_csv('./model_data/lyrics_processed.csv')\n",
    "device = torch.device(\"cuda\" if torch.cuda.is_available() else \"cpu\")\n",
    "loaded_dataset = load_chord_dicts(ChordsDataset(df,NLP),\"./model_trained/id2chord.json\",\"./model_trained/chord2id.json\")\n",
    "\n",
    "print(\"loaded dataset\")\n",
    "\n",
    "LYR_VOCAB_SIZE = 100\n",
    "EMB_SIZE = LYR_VOCAB_SIZE\n",
    "CHORD_SIZE = len(loaded_dataset.chords_set) \n",
    "num_heads = 4\n",
    "num_encoder_layers = 3\n",
    "num_decoder_layers = 3\n",
    "forward_expansion = 2\n",
    "dropout = 0.1\n",
    "max_length = 7038\n",
    "loaded_transformer = Transformer(\n",
    "    EMB_SIZE,\n",
    "    LYR_VOCAB_SIZE,\n",
    "    CHORD_SIZE,\n",
    "    15,\n",
    "    5,\n",
    "    4, \n",
    "    4, \n",
    "    2, \n",
    "    dropout, \n",
    "    max_length,\n",
    "    device \n",
    "    )\n",
    "loaded_transformer.load_state_dict(torch.load(\"./model_trained/model_5_4_4_2_01.pt\"))"
   ]
  },
  {
   "cell_type": "code",
   "execution_count": 10,
   "metadata": {},
   "outputs": [
    {
     "name": "stdout",
     "output_type": "stream",
     "text": [
      "['<SOS>', 'i', 'love', 'life', '<EOL>', 'it', 'is', 'so', 'great', '<EOS>']\n",
      "<SOS>\n",
      "Bb/G\n",
      "Bb/G\n",
      "G/B\n",
      "G/B\n",
      "C/E\n",
      "C/E\n",
      "Ab/C\n",
      "Ab/C\n",
      "Bbm\n",
      "Bbm\n"
     ]
    },
    {
     "data": {
      "text/plain": [
       "[None, None, None, None, None, None, None, None, None, None, None]"
      ]
     },
     "execution_count": 10,
     "metadata": {},
     "output_type": "execute_result"
    }
   ],
   "source": [
    "\n",
    "\n",
    "def predict(model: nn.Module, lyrics: str, dataset: ChordsDataset, max_length):\n",
    "    model.eval()\n",
    "    processed_lyrics = preprocess_text(lyrics)\n",
    "    print(processed_lyrics)\n",
    "    vectorized_lyrics = torch.FloatTensor([dataset.vectorize(token) for token in processed_lyrics]).to(device)\n",
    "    vectorized_lyrics = vectorized_lyrics.reshape(-1,1,100)\n",
    "    outputs = [dataset.chord2id[\"<SOS>\"]]\n",
    "    for i in range(max_length):\n",
    "        trg_tensor = torch.LongTensor(outputs).unsqueeze(1).to(device)\n",
    "\n",
    "        with torch.no_grad():\n",
    "            output = model(vectorized_lyrics, trg_tensor)\n",
    "        best_guess = output.argmax(2)[-1, :].item()\n",
    "        outputs.append(best_guess)\n",
    "\n",
    "        if best_guess == dataset.chord2id[\"<EOS>\"]:\n",
    "            break\n",
    "            \n",
    "    translated_sentence = dataset.decode_chord_tensor(outputs)\n",
    "    # remove start token\n",
    "    return translated_sentence\n",
    "[print(c) for c in predict(loaded_transformer,\"I love life \\r\\n it is so great\", loaded_dataset,10)]"
   ]
  },
  {
   "cell_type": "code",
   "execution_count": 1,
   "metadata": {},
   "outputs": [
    {
     "ename": "NameError",
     "evalue": "name 'loaded_dataset' is not defined",
     "output_type": "error",
     "traceback": [
      "\u001b[1;31m---------------------------------------------------------------------------\u001b[0m",
      "\u001b[1;31mNameError\u001b[0m                                 Traceback (most recent call last)",
      "\u001b[1;32m~\\AppData\\Local\\Temp/ipykernel_26064/1942293185.py\u001b[0m in \u001b[0;36m<module>\u001b[1;34m\u001b[0m\n\u001b[0;32m      3\u001b[0m \u001b[1;32mfrom\u001b[0m \u001b[0mchords_dataset\u001b[0m \u001b[1;32mimport\u001b[0m \u001b[0mChordsDataset\u001b[0m\u001b[1;33m\u001b[0m\u001b[1;33m\u001b[0m\u001b[0m\n\u001b[0;32m      4\u001b[0m \u001b[0mnum\u001b[0m \u001b[1;33m=\u001b[0m \u001b[1;36m107\u001b[0m\u001b[1;33m\u001b[0m\u001b[1;33m\u001b[0m\u001b[0m\n\u001b[1;32m----> 5\u001b[1;33m \u001b[0mchrds\u001b[0m \u001b[1;33m=\u001b[0m \u001b[0mloaded_dataset\u001b[0m\u001b[1;33m[\u001b[0m\u001b[0mnum\u001b[0m\u001b[1;33m]\u001b[0m\u001b[1;33m[\u001b[0m\u001b[1;34m\"chords\"\u001b[0m\u001b[1;33m]\u001b[0m\u001b[1;33m\u001b[0m\u001b[1;33m\u001b[0m\u001b[0m\n\u001b[0m\u001b[0;32m      6\u001b[0m \u001b[1;31m# loaded_transformer.trg_word_embedding(chrds[-1].to(torch.int64).to(device))\u001b[0m\u001b[1;33m\u001b[0m\u001b[1;33m\u001b[0m\u001b[1;33m\u001b[0m\u001b[0m\n\u001b[0;32m      7\u001b[0m \u001b[0mlyrics\u001b[0m \u001b[1;33m=\u001b[0m \u001b[0mloaded_dataset\u001b[0m\u001b[1;33m.\u001b[0m\u001b[0mlyrics\u001b[0m\u001b[1;33m[\u001b[0m\u001b[0mnum\u001b[0m\u001b[1;33m]\u001b[0m\u001b[1;33m\u001b[0m\u001b[1;33m\u001b[0m\u001b[0m\n",
      "\u001b[1;31mNameError\u001b[0m: name 'loaded_dataset' is not defined"
     ]
    }
   ],
   "source": [
    "from torchtext.data.utils import get_tokenizer\n",
    "from nltk.corpus import words\n",
    "from chords_dataset import ChordsDataset\n",
    "num = 107\n",
    "chrds = loaded_dataset[num][\"chords\"]\n",
    "# loaded_transformer.trg_word_embedding(chrds[-1].to(torch.int64).to(device))\n",
    "lyrics = loaded_dataset.lyrics[num]\n",
    "print(lyrics, loaded_dataset.decode_chord_tensor(chrds))\n"
   ]
  },
  {
   "cell_type": "code",
   "execution_count": 7,
   "metadata": {},
   "outputs": [
    {
     "name": "stdout",
     "output_type": "stream",
     "text": [
      "B7\n",
      "B7\n",
      "A\n",
      "A\n",
      "F\n",
      "F\n",
      "F\n",
      "F\n",
      "F\n",
      "F\n",
      "F\n",
      "C/E\n",
      "C/E\n",
      "C/E\n",
      "C/E\n",
      "C\n",
      "C\n",
      "C\n",
      "C\n",
      "C\n"
     ]
    },
    {
     "data": {
      "text/plain": [
       "[None,\n",
       " None,\n",
       " None,\n",
       " None,\n",
       " None,\n",
       " None,\n",
       " None,\n",
       " None,\n",
       " None,\n",
       " None,\n",
       " None,\n",
       " None,\n",
       " None,\n",
       " None,\n",
       " None,\n",
       " None,\n",
       " None,\n",
       " None,\n",
       " None,\n",
       " None]"
      ]
     },
     "execution_count": 7,
     "metadata": {},
     "output_type": "execute_result"
    }
   ],
   "source": [
    "[print(c) for c in  ['B7', 'B7', 'A', 'A', 'F', 'F', 'F', 'F', 'F', 'F', 'F', 'C/E', 'C/E', 'C/E', 'C/E', 'C', 'C', 'C', 'C', 'C']]"
   ]
  }
 ],
 "metadata": {
  "interpreter": {
   "hash": "2c08fb7d0681ab80e3191df3cdd3d9ae56e033f792b7fa01572cc6446116ecae"
  },
  "kernelspec": {
   "display_name": "Python 3.8.12 ('p38')",
   "language": "python",
   "name": "python3"
  },
  "language_info": {
   "codemirror_mode": {
    "name": "ipython",
    "version": 3
   },
   "file_extension": ".py",
   "mimetype": "text/x-python",
   "name": "python",
   "nbconvert_exporter": "python",
   "pygments_lexer": "ipython3",
   "version": "3.8.12"
  },
  "orig_nbformat": 4
 },
 "nbformat": 4,
 "nbformat_minor": 2
}
