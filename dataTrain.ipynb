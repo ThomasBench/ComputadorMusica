{
 "cells": [
  {
   "cell_type": "code",
   "execution_count": 1,
   "metadata": {},
   "outputs": [
    {
     "name": "stderr",
     "output_type": "stream",
     "text": [
      "c:\\Users\\bench\\anaconda3\\envs\\p38\\lib\\site-packages\\numpy\\_distributor_init.py:30: UserWarning: loaded more than 1 DLL from .libs:\n",
      "c:\\Users\\bench\\anaconda3\\envs\\p38\\lib\\site-packages\\numpy\\.libs\\libopenblas.PYQHXLVVQ7VESDPUVUADXEVJOBGHJPAY.gfortran-win_amd64.dll\n",
      "c:\\Users\\bench\\anaconda3\\envs\\p38\\lib\\site-packages\\numpy\\.libs\\libopenblas.WCDJNK7YVMPZQ2ME2ZZHJJRJ3JIKNDB7.gfortran-win_amd64.dll\n",
      "  warnings.warn(\"loaded more than 1 DLL from .libs:\\n%s\" %\n",
      "c:\\Users\\bench\\anaconda3\\envs\\p38\\lib\\site-packages\\torchtext\\data\\utils.py:123: UserWarning: Spacy model \"en\" could not be loaded, trying \"en_core_web_sm\" instead\n",
      "  warnings.warn(f'Spacy model \"{language}\" could not be loaded, trying \"{OLD_MODEL_SHORTCUTS[language]}\" instead')\n"
     ]
    }
   ],
   "source": [
    "import pandas as pd\n",
    "import torch\n",
    "from sklearn.model_selection import train_test_split\n",
    "import torch.nn as nn\n",
    "from torch import optim, Tensor\n",
    "import math\n",
    "from tqdm.notebook import tqdm\n",
    "from chords_dataset import ChordsDataset\n",
    "from model_helpers import NLP\n",
    "from model import Transformer\n",
    "device = torch.device(\"cpu\" if torch.cuda.is_available() else \"cpu\")\n",
    "\n",
    "df = pd.read_csv('./model_data/lyrics_processed.csv')\n",
    "dataset = ChordsDataset(df, NLP)\n",
    "train_i, test_i, validation_i = dataset.get_train_test_valid_indexes(0.9,0.09,0.01)\n",
    "\n",
    "\n",
    "LYR_VOCAB_SIZE = 100\n",
    "EMB_SIZE = LYR_VOCAB_SIZE\n",
    "CHORD_SIZE = len(dataset.chords_set) \n",
    "num_heads = 4\n",
    "num_encoder_layers = 3\n",
    "num_decoder_layers = 3\n",
    "forward_expansion = 2\n",
    "dropout = 0.5\n",
    "max_length = 7038\n",
    "\n",
    "model = Transformer(EMB_SIZE,LYR_VOCAB_SIZE,CHORD_SIZE,15,num_heads,num_encoder_layers, num_decoder_layers, forward_expansion, dropout, max_length,device ).to(device)\n",
    "optimizer = optim.Adam(model.parameters(), lr = 6e-4)\n",
    "criterion = nn.CrossEntropyLoss().to(device)\n"
   ]
  },
  {
   "cell_type": "code",
   "execution_count": 11,
   "metadata": {},
   "outputs": [],
   "source": [
    "\n",
    "def eval_model(dataset: ChordsDataset,validation_indexes:list, model: nn.Module, criterion: nn.Module, device):\n",
    "    model.eval()\n",
    "    loss = 0\n",
    "    nb_elem = len(validation_indexes)\n",
    "    for index in validation_indexes:\n",
    "        elem = dataset[index]\n",
    "        source, target = elem[\"lyrics\"].reshape(-1,1,100).to(device), elem[\"chords\"].reshape(-1,1)\n",
    "        output = model(source, target).reshape(-1,CHORD_SIZE)\n",
    "        target_one_hot= Tensor([dataset.to_one_hot(int(chord)) for chord in target]).to(device)\n",
    "        loss += criterion(output, target_one_hot)\n",
    "    model.train()\n",
    "    return loss/nb_elem\n"
   ]
  },
  {
   "cell_type": "code",
   "execution_count": null,
   "metadata": {},
   "outputs": [],
   "source": [
    "\n",
    "\n",
    "NB_EPOCHS = 3\n",
    "\n",
    "for epoch in range(NB_EPOCHS):\n",
    "    print(f\"[Epoch {epoch}/ {NB_EPOCHS}]\")\n",
    "    model.train()\n",
    "    for i,index in tqdm(enumerate(train_i)):\n",
    "        optimizer.zero_grad()\n",
    "        elem = dataset[index]\n",
    "        source, target = elem[\"lyrics\"].reshape(-1,1,100).to(device), elem[\"chords\"].reshape(-1,1)\n",
    "        output = model(source, target).reshape(-1,CHORD_SIZE)\n",
    "        # optimizer.zero_grad()\n",
    "        target_one_hot=  torch.Tensor([dataset.to_one_hot(int(chord)) for chord in target]).to(device)\n",
    "        loss = criterion(output, target_one_hot)\n",
    "        loss.backward()\n",
    "        torch.nn.utils.clip_grad_norm(model.parameters(), max_norm= 1)\n",
    "        optimizer.step()\n",
    "        if i % 500 == 0:\n",
    "            print(f\"At i = {i} : \",eval_model(dataset, validation_i, model, criterion))"
   ]
  },
  {
   "cell_type": "code",
   "execution_count": 22,
   "metadata": {},
   "outputs": [
    {
     "name": "stdout",
     "output_type": "stream",
     "text": [
      "loaded dataset\n"
     ]
    },
    {
     "data": {
      "text/plain": [
       "<All keys matched successfully>"
      ]
     },
     "execution_count": 22,
     "metadata": {},
     "output_type": "execute_result"
    }
   ],
   "source": [
    "from model_helpers import preprocess_text\n",
    "import json \n",
    "import pandas as pd\n",
    "import torch.nn as nn\n",
    "from torch import Tensor\n",
    "from model import Transformer\n",
    "from chords_dataset import ChordsDataset\n",
    "from model_helpers import NLP\n",
    "import torch\n",
    "\n",
    "def load_chord_dicts(dataset: ChordsDataset, id2chord: dict, chord2id: dict) -> ChordsDataset: \n",
    "    with open(id2chord, mode = \"r\") as f:\n",
    "        dataset.id2chord = {int(i):k for i,k in json.load(f).items()}\n",
    "\n",
    "    with open(chord2id, mode = \"r\") as f:\n",
    "        dataset.chord2id = {i: int(k) for i,k in json.load(f).items()}\n",
    "    return dataset\n",
    "    \n",
    "\n",
    "df = pd.read_csv('./model_data/lyrics_processed.csv')\n",
    "device = torch.device(\"cuda\" if torch.cuda.is_available() else \"cpu\")\n",
    "loaded_dataset = load_chord_dicts(ChordsDataset(df,NLP), \"id2chord.json\",\"chord2id.json\")\n",
    "\n",
    "print(\"loaded dataset\")\n",
    "\n",
    "LYR_VOCAB_SIZE = 100\n",
    "EMB_SIZE = LYR_VOCAB_SIZE\n",
    "CHORD_SIZE = len(loaded_dataset.chords_set) \n",
    "num_heads = 4\n",
    "num_encoder_layers = 3\n",
    "num_decoder_layers = 3\n",
    "forward_expansion = 2\n",
    "dropout = 0.1\n",
    "max_length = 7038\n",
    "loaded_transformer = Transformer(\n",
    "    EMB_SIZE,\n",
    "    LYR_VOCAB_SIZE,\n",
    "    CHORD_SIZE,\n",
    "    15,\n",
    "    5,\n",
    "    4, \n",
    "    4, \n",
    "    2, \n",
    "    dropout, \n",
    "    max_length,\n",
    "    device \n",
    "    )\n",
    "loaded_transformer.load_state_dict(torch.load(\"./model_5_4_4_2_01.pt\"))"
   ]
  },
  {
   "cell_type": "code",
   "execution_count": 7,
   "metadata": {},
   "outputs": [
    {
     "name": "stdout",
     "output_type": "stream",
     "text": [
      "['<SOS>', 'i', 'love', 'life', 'it', 'is', 'so', 'great', '<EOS>']\n",
      "Em7\n",
      "Bb/G\n",
      "Am\n",
      "Am\n",
      "G5\n",
      "G5\n",
      "C\n",
      "C\n",
      "Bb\n",
      "Bb\n",
      "Bbm\n"
     ]
    },
    {
     "name": "stderr",
     "output_type": "stream",
     "text": [
      "c:\\Users\\bench\\Documents\\EPFL\\Master\\MA4\\Computador e musica\\project\\ComputadorMusica\\model.py:80: UserWarning: Implicit dimension choice for softmax has been deprecated. Change the call to include dim=X as an argument.\n",
      "  output = self.softmax(self.fc_out(output))\n"
     ]
    },
    {
     "data": {
      "text/plain": [
       "[None, None, None, None, None, None, None, None, None, None, None]"
      ]
     },
     "execution_count": 7,
     "metadata": {},
     "output_type": "execute_result"
    }
   ],
   "source": [
    "\n",
    "\n",
    "def predict(model: nn.Module, lyrics: str, dataset: ChordsDataset, max_length):\n",
    "    model.eval()\n",
    "    processed_lyrics = preprocess_text(lyrics)\n",
    "    print(processed_lyrics)\n",
    "    vectorized_lyrics = torch.FloatTensor([dataset.vectorize(token) for token in processed_lyrics]).to(device)\n",
    "    vectorized_lyrics = vectorized_lyrics.reshape(-1,1,100)\n",
    "    outputs = [dataset.chord2id[\"<SOS>\"]]\n",
    "    for i in range(max_length):\n",
    "        trg_tensor = torch.LongTensor(outputs).unsqueeze(1).to(device)\n",
    "\n",
    "        with torch.no_grad():\n",
    "            output = model(vectorized_lyrics, trg_tensor)\n",
    "        best_guess = output.argmax(2)[-1, :].item()\n",
    "        outputs.append(best_guess)\n",
    "\n",
    "        if best_guess == dataset.chord2id[\"<EOS>\"]:\n",
    "            break\n",
    "            \n",
    "    translated_sentence = dataset.decode_chord_tensor(outputs)\n",
    "    # remove start token\n",
    "    return translated_sentence\n",
    "[print(c) for c in predict(loaded_transformer,\"I love life \\r\\n it is so great\", loaded_dataset,10)]"
   ]
  },
  {
   "cell_type": "code",
   "execution_count": 32,
   "metadata": {},
   "outputs": [
    {
     "name": "stdout",
     "output_type": "stream",
     "text": [
      "['<SOS>', 'yea', 'i', 'used', 'to', 'look', 'forward', 'to', '<EOL>', 'when', 'me', 'and', 'my', 'get', 'way', '<EOL>', 'we', 'hop', 'in', 'his', 'pickup', 'truck', 'and', 'we', 'go', 'to', 'town', '<EOL>', 'we', 'had', 'a', 'couple', 'that', 'we', 'had', 'to', 'do', '<EOL>', 'it', 'did', 'take', 'long', 'before', 'we', 'were', 'through', '<EOL>', 'then', 'we', 'let', 'the', 'pickup', 'truck', 'just', 'wander', 'around', '<EOL>', 'we', 'make', 'a', 'run', 'to', 'the', 'county', 'dump', '<EOL>', 'we', 'always', 'wave', 'we', 'saw', 'someone', 'grandpa', 'make', 'up', 'a', 'song', 'as', 'we', 'rolled', 'along', '<EOL>', 'the', 'post', 'office', 'without', 'fail', '<EOL>', 'we', 'get', 'some', 'feed', 'and', 'we', 'check', 'out', 'the', 'mail', '<EOL>', 'and', 'we', 'never', 'took', 'the', 'same', 'road', 'twice', 'on', 'the', 'way', 'back', 'home', '<EOL>', 'i', 'spent', 'a', 'few', 'out', 'free', '<EOL>', 'i', 'spent', 'two', 'or', 'three', 'in', 'new', 'york', 'city', '<EOL>', 'back', 'to', 'tired', 'hell', 'i', 'had', 'enough', '<EOL>', 'i', 'go', 'to', 'on', '<EOL>', 'cause', 'hondo', 'had', 'a', 'way', 'to', 'brighten', 'up', 'my', 'day', '<EOL>', 'he', 'always', 'made', 'me', 'laugh', 'when', 'we', 'rode', 'in', 'his', 'pickup', 'truck', '<EOL>', 'we', 'make', 'a', 'run', 'to', 'the', 'county', 'dump', '<EOL>', 'we', 'always', 'wave', 'when', 'we', 'saw', 'someone', '<EOL>', 'make', 'up', 'a', 'tale', 'as', 'we', 'rolled', 'along', '<EOL>', 'the', 'post', 'office', 'without', 'fail', '<EOL>', 'he', 'get', 'some', 'chew', 'and', 'we', 'check', 'out', 'the', 'mail', '<EOL>', 'and', 'we', 'never', 'took', 'the', 'same', 'road', 'twice', 'on', 'the', 'way', 'back', 'home', '<EOL>', 'well', 'i', 'miss', 'grandpa', 'and', 'hondo', 'too', '<EOL>', 'i', 'really', 'miss', 'the', 'that', 'we', 'used', 'to', 'do', '<EOL>', 'so', 'last', 'week', 'i', 'went', 'out', 'and', 'bought', 'me', 'an', 'old', 'pickup', 'truck', '<EOL>', 'now', 'me', 'and', 'the', 'spend', '<EOL>', 'we', 'do', 'fun', 'in', 'a', 'simple', 'way', '<EOL>', 'we', 'love', 'to', 'start', 'the', 'day', 'with', 'a', 'ride', 'in', 'the', 'pickup', 'truck', '<EOL>', 'we', 'make', 'a', 'run', 'to', 'the', 'county', 'dump', '<EOL>', 'we', 'always', 'wave', 'if', 'we', 'see', 'someone', '<EOL>', 'the', 'love', 'to', 'make', 'up', 'a', 'song', 'as', 'we', 'roll', 'along', '<EOL>', 'to', 'the', 'post', 'office', 'without', 'fail', '<EOL>', 'we', 'get', 'some', 'and', 'we', 'check', 'out', 'the', 'mail', '<EOL>', 'we', 'never', 'take', 'the', 'same', 'road', 'twice', 'on', 'the', 'way', 'back', 'home', '<EOL>', 'half', 'the', 'fun', 'lost', 'on', 'the', 'way', 'back', 'home', '<EOL>', '<EOS>'] ['<SOS>', 'D', 'G', 'D', 'A', 'G', 'A', 'D', 'D', 'G', 'D', 'A', 'G', 'A', 'D', 'G', 'A', 'D', 'G', 'A', 'D', 'G', 'A', 'D', 'G', 'A', 'D', 'D', 'G', 'D', 'A', 'G', 'A', 'D', 'D', 'G', 'D', 'A', 'G', 'A', 'D', 'G', 'A', 'D', 'G', 'A', 'D', 'G', 'A', 'D', 'G', 'A', 'D', 'D', 'G', 'D', 'A', 'G', 'A', 'D', 'D', 'G', 'D', 'A', 'G', 'A', 'D', 'G', 'A', 'D', 'G', 'A', 'D', 'G', 'A', 'D', 'G', 'A', 'D', 'G', 'A', 'D', '<EOS>']\n"
     ]
    }
   ],
   "source": [
    "from torchtext.data.utils import get_tokenizer\n",
    "from nltk.corpus import words\n",
    "from chords_dataset import ChordsDataset\n",
    "num = 107\n",
    "chrds = loaded_dataset[num][\"chords\"]\n",
    "# loaded_transformer.trg_word_embedding(chrds[-1].to(torch.int64).to(device))\n",
    "lyrics = loaded_dataset.lyrics[num]\n",
    "print(lyrics, loaded_dataset.decode_chord_tensor(chrds))\n"
   ]
  },
  {
   "cell_type": "code",
   "execution_count": null,
   "metadata": {},
   "outputs": [],
   "source": []
  }
 ],
 "metadata": {
  "interpreter": {
   "hash": "2c08fb7d0681ab80e3191df3cdd3d9ae56e033f792b7fa01572cc6446116ecae"
  },
  "kernelspec": {
   "display_name": "Python 3.8.12 ('p38')",
   "language": "python",
   "name": "python3"
  },
  "language_info": {
   "codemirror_mode": {
    "name": "ipython",
    "version": 3
   },
   "file_extension": ".py",
   "mimetype": "text/x-python",
   "name": "python",
   "nbconvert_exporter": "python",
   "pygments_lexer": "ipython3",
   "version": "3.8.12"
  },
  "orig_nbformat": 4
 },
 "nbformat": 4,
 "nbformat_minor": 2
}
