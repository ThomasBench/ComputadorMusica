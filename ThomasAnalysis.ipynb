{
 "cells": [
  {
   "cell_type": "code",
   "execution_count": 1,
   "metadata": {},
   "outputs": [
    {
     "data": {
      "text/html": [
       "<div>\n",
       "<style scoped>\n",
       "    .dataframe tbody tr th:only-of-type {\n",
       "        vertical-align: middle;\n",
       "    }\n",
       "\n",
       "    .dataframe tbody tr th {\n",
       "        vertical-align: top;\n",
       "    }\n",
       "\n",
       "    .dataframe thead th {\n",
       "        text-align: right;\n",
       "    }\n",
       "</style>\n",
       "<table border=\"1\" class=\"dataframe\">\n",
       "  <thead>\n",
       "    <tr style=\"text-align: right;\">\n",
       "      <th></th>\n",
       "      <th>name</th>\n",
       "      <th>author</th>\n",
       "      <th>link</th>\n",
       "      <th>lyrics</th>\n",
       "      <th>chords</th>\n",
       "      <th>genre</th>\n",
       "      <th>actual_name</th>\n",
       "      <th>language</th>\n",
       "    </tr>\n",
       "  </thead>\n",
       "  <tbody>\n",
       "    <tr>\n",
       "      <th>0</th>\n",
       "      <td>As Long As The Grass Shall Grow</td>\n",
       "      <td>Johnny Cash</td>\n",
       "      <td>https://tabs.ultimate-guitar.com/tab/johnny-ca...</td>\n",
       "      <td>As long,  As the moon shall rise,     As ...</td>\n",
       "      <td>['A', 'E', 'A', 'A', 'E', 'A', 'D', 'D', 'A', ...</td>\n",
       "      <td>Country</td>\n",
       "      <td>As Long As The Grass Shall Grow</td>\n",
       "      <td>en</td>\n",
       "    </tr>\n",
       "    <tr>\n",
       "      <th>1</th>\n",
       "      <td>Delias Gone (ver 4)</td>\n",
       "      <td>Johnny Cash</td>\n",
       "      <td>https://tabs.ultimate-guitar.com/tab/johnny-ca...</td>\n",
       "      <td>Delia, oh, Delia Delia all my life\\r\\nIf I had...</td>\n",
       "      <td>['A', 'D', 'A', 'A7', 'D', 'B7', 'E', 'A', 'D'...</td>\n",
       "      <td>Country</td>\n",
       "      <td>Delias Gone</td>\n",
       "      <td>en</td>\n",
       "    </tr>\n",
       "    <tr>\n",
       "      <th>2</th>\n",
       "      <td>Mean Eyed Cat</td>\n",
       "      <td>Johnny Cash</td>\n",
       "      <td>https://tabs.ultimate-guitar.com/tab/johnny-ca...</td>\n",
       "      <td>I gave my woman half my money at the general s...</td>\n",
       "      <td>['E', 'B7', 'E', 'A7', 'B7', 'E', 'E', 'B7', '...</td>\n",
       "      <td>Country</td>\n",
       "      <td>Mean Eyed Cat</td>\n",
       "      <td>en</td>\n",
       "    </tr>\n",
       "    <tr>\n",
       "      <th>3</th>\n",
       "      <td>I Couldnt Keep From Crying</td>\n",
       "      <td>Johnny Cash</td>\n",
       "      <td>https://tabs.ultimate-guitar.com/tab/johnny-ca...</td>\n",
       "      <td>I SAW YOU WALKING BY HIS SIDE,\\r\\nHEARD YOU W...</td>\n",
       "      <td>['A', 'A7', 'D', 'A', 'E7', 'A', 'A7', 'D', 'A...</td>\n",
       "      <td>Country</td>\n",
       "      <td>I Couldnt Keep From Crying</td>\n",
       "      <td>en</td>\n",
       "    </tr>\n",
       "    <tr>\n",
       "      <th>4</th>\n",
       "      <td>It Aint Me Babe (ver 3)</td>\n",
       "      <td>Johnny Cash</td>\n",
       "      <td>https://tabs.ultimate-guitar.com/tab/johnny-ca...</td>\n",
       "      <td>Go 'way from my window leave at your own chose...</td>\n",
       "      <td>['A', 'Bm', 'A', 'E', 'A', 'A', 'Bm', 'A', 'E'...</td>\n",
       "      <td>Country</td>\n",
       "      <td>It Aint Me Babe</td>\n",
       "      <td>en</td>\n",
       "    </tr>\n",
       "    <tr>\n",
       "      <th>...</th>\n",
       "      <td>...</td>\n",
       "      <td>...</td>\n",
       "      <td>...</td>\n",
       "      <td>...</td>\n",
       "      <td>...</td>\n",
       "      <td>...</td>\n",
       "      <td>...</td>\n",
       "      <td>...</td>\n",
       "    </tr>\n",
       "    <tr>\n",
       "      <th>23570</th>\n",
       "      <td>5150</td>\n",
       "      <td>Machine Gun Kelly</td>\n",
       "      <td>https://tabs.ultimate-guitar.com/tab/machine-g...</td>\n",
       "      <td>Bruises don't heal overnight\\r\\nI'm a few sips...</td>\n",
       "      <td>['C', 'G', 'D', 'Em', 'C', 'G', 'D', 'Em', 'C'...</td>\n",
       "      <td>Rock</td>\n",
       "      <td>5150</td>\n",
       "      <td>en</td>\n",
       "    </tr>\n",
       "    <tr>\n",
       "      <th>23571</th>\n",
       "      <td>Fake Love Dont Last</td>\n",
       "      <td>Machine Gun Kelly</td>\n",
       "      <td>https://tabs.ultimate-guitar.com/tab/machine-g...</td>\n",
       "      <td>I watched a movie scene, got déjà vu\\r\\n'Cause...</td>\n",
       "      <td>['Em', 'G', 'B', 'C', 'Em', 'G', 'B', 'C', 'Em...</td>\n",
       "      <td>Rock</td>\n",
       "      <td>Fake Love Dont Last</td>\n",
       "      <td>en</td>\n",
       "    </tr>\n",
       "    <tr>\n",
       "      <th>23572</th>\n",
       "      <td>Sid And Nancy</td>\n",
       "      <td>Machine Gun Kelly</td>\n",
       "      <td>https://tabs.ultimate-guitar.com/tab/machine-g...</td>\n",
       "      <td>I knew a girl who'd wear my t-shirts when she ...</td>\n",
       "      <td>['D', 'F#m', 'E', 'D', 'F#m', 'E', 'D', 'F#m',...</td>\n",
       "      <td>Rock</td>\n",
       "      <td>Sid And Nancy</td>\n",
       "      <td>en</td>\n",
       "    </tr>\n",
       "    <tr>\n",
       "      <th>23573</th>\n",
       "      <td>Forever</td>\n",
       "      <td>Stereophonics</td>\n",
       "      <td>https://tabs.ultimate-guitar.com/tab/stereopho...</td>\n",
       "      <td>Sun beats down on my mind on a friday morning...</td>\n",
       "      <td>['G', 'C', 'G', 'C', 'G', 'C', 'G', 'C', 'D', ...</td>\n",
       "      <td>Rock</td>\n",
       "      <td>Forever</td>\n",
       "      <td>en</td>\n",
       "    </tr>\n",
       "    <tr>\n",
       "      <th>23574</th>\n",
       "      <td>Goodnight Chicago</td>\n",
       "      <td>Rainbow Kitten Surprise</td>\n",
       "      <td>https://tabs.ultimate-guitar.com/tab/rainbow-k...</td>\n",
       "      <td>Twenty years to see New York reflected on subw...</td>\n",
       "      <td>['C', 'C', 'Am', 'F', 'C', 'C', 'C', 'Am', 'F'...</td>\n",
       "      <td>Rock</td>\n",
       "      <td>Goodnight Chicago</td>\n",
       "      <td>en</td>\n",
       "    </tr>\n",
       "  </tbody>\n",
       "</table>\n",
       "<p>23575 rows × 8 columns</p>\n",
       "</div>"
      ],
      "text/plain": [
       "                                  name                   author  \\\n",
       "0      As Long As The Grass Shall Grow              Johnny Cash   \n",
       "1                  Delias Gone (ver 4)              Johnny Cash   \n",
       "2                        Mean Eyed Cat              Johnny Cash   \n",
       "3           I Couldnt Keep From Crying              Johnny Cash   \n",
       "4              It Aint Me Babe (ver 3)              Johnny Cash   \n",
       "...                                ...                      ...   \n",
       "23570                             5150        Machine Gun Kelly   \n",
       "23571              Fake Love Dont Last        Machine Gun Kelly   \n",
       "23572                    Sid And Nancy        Machine Gun Kelly   \n",
       "23573                          Forever            Stereophonics   \n",
       "23574                Goodnight Chicago  Rainbow Kitten Surprise   \n",
       "\n",
       "                                                    link  \\\n",
       "0      https://tabs.ultimate-guitar.com/tab/johnny-ca...   \n",
       "1      https://tabs.ultimate-guitar.com/tab/johnny-ca...   \n",
       "2      https://tabs.ultimate-guitar.com/tab/johnny-ca...   \n",
       "3      https://tabs.ultimate-guitar.com/tab/johnny-ca...   \n",
       "4      https://tabs.ultimate-guitar.com/tab/johnny-ca...   \n",
       "...                                                  ...   \n",
       "23570  https://tabs.ultimate-guitar.com/tab/machine-g...   \n",
       "23571  https://tabs.ultimate-guitar.com/tab/machine-g...   \n",
       "23572  https://tabs.ultimate-guitar.com/tab/machine-g...   \n",
       "23573  https://tabs.ultimate-guitar.com/tab/stereopho...   \n",
       "23574  https://tabs.ultimate-guitar.com/tab/rainbow-k...   \n",
       "\n",
       "                                                  lyrics  \\\n",
       "0           As long,  As the moon shall rise,     As ...   \n",
       "1      Delia, oh, Delia Delia all my life\\r\\nIf I had...   \n",
       "2      I gave my woman half my money at the general s...   \n",
       "3       I SAW YOU WALKING BY HIS SIDE,\\r\\nHEARD YOU W...   \n",
       "4      Go 'way from my window leave at your own chose...   \n",
       "...                                                  ...   \n",
       "23570  Bruises don't heal overnight\\r\\nI'm a few sips...   \n",
       "23571  I watched a movie scene, got déjà vu\\r\\n'Cause...   \n",
       "23572  I knew a girl who'd wear my t-shirts when she ...   \n",
       "23573   Sun beats down on my mind on a friday morning...   \n",
       "23574  Twenty years to see New York reflected on subw...   \n",
       "\n",
       "                                                  chords    genre  \\\n",
       "0      ['A', 'E', 'A', 'A', 'E', 'A', 'D', 'D', 'A', ...  Country   \n",
       "1      ['A', 'D', 'A', 'A7', 'D', 'B7', 'E', 'A', 'D'...  Country   \n",
       "2      ['E', 'B7', 'E', 'A7', 'B7', 'E', 'E', 'B7', '...  Country   \n",
       "3      ['A', 'A7', 'D', 'A', 'E7', 'A', 'A7', 'D', 'A...  Country   \n",
       "4      ['A', 'Bm', 'A', 'E', 'A', 'A', 'Bm', 'A', 'E'...  Country   \n",
       "...                                                  ...      ...   \n",
       "23570  ['C', 'G', 'D', 'Em', 'C', 'G', 'D', 'Em', 'C'...     Rock   \n",
       "23571  ['Em', 'G', 'B', 'C', 'Em', 'G', 'B', 'C', 'Em...     Rock   \n",
       "23572  ['D', 'F#m', 'E', 'D', 'F#m', 'E', 'D', 'F#m',...     Rock   \n",
       "23573  ['G', 'C', 'G', 'C', 'G', 'C', 'G', 'C', 'D', ...     Rock   \n",
       "23574  ['C', 'C', 'Am', 'F', 'C', 'C', 'C', 'Am', 'F'...     Rock   \n",
       "\n",
       "                           actual_name language  \n",
       "0      As Long As The Grass Shall Grow       en  \n",
       "1                          Delias Gone       en  \n",
       "2                        Mean Eyed Cat       en  \n",
       "3           I Couldnt Keep From Crying       en  \n",
       "4                      It Aint Me Babe       en  \n",
       "...                                ...      ...  \n",
       "23570                             5150       en  \n",
       "23571              Fake Love Dont Last       en  \n",
       "23572                    Sid And Nancy       en  \n",
       "23573                          Forever       en  \n",
       "23574                Goodnight Chicago       en  \n",
       "\n",
       "[23575 rows x 8 columns]"
      ]
     },
     "execution_count": 1,
     "metadata": {},
     "output_type": "execute_result"
    }
   ],
   "source": [
    "import pandas as pd\n",
    "from ast import literal_eval\n",
    "from collections import Counter\n",
    "import numpy as np \n",
    "from typing import Dict, List, Set, Tuple\n",
    "def convert_string_to_ngrams_list (chords_string, ngram = 4):\n",
    "    \"\"\"\n",
    "    converts the list of chords to list of ngrams, each ngram is one list\n",
    "    \"\"\"\n",
    "    chords = literal_eval(chords_string)\n",
    "    chords = [chord.replace(\"(\", \"\") for chord in chords]\n",
    "    chords = [chord.replace(\")\", \"\") for chord in chords]\n",
    "    temp=zip(*[chords[i:] for i in range(0,ngram)])\n",
    "    ans=[' '.join(ngram) for ngram in temp]\n",
    "\n",
    "    return ans\n",
    "all_genres_en = pd.read_csv('data/all_genres_en.csv').drop(columns='Unnamed: 0')\n"
   ]
  },
  {
   "cell_type": "code",
   "execution_count": 2,
   "metadata": {},
   "outputs": [
    {
     "data": {
      "text/plain": [
       "9363"
      ]
     },
     "execution_count": 2,
     "metadata": {},
     "output_type": "execute_result"
    }
   ],
   "source": [
    "all_genres_en['ngrams'] = all_genres_en['chords'].apply(lambda x: convert_string_to_ngrams_list(x,4))\n",
    "all_genres_en['ngrams'] = all_genres_en['ngrams'].apply(lambda x:  x if len(x) > 0 else np.NaN)\n",
    "all_genres_en = all_genres_en.dropna(subset=[\"ngrams\"])\n",
    "all_genres_en[\"best_ngram\"] =  all_genres_en['ngrams'].apply( lambda x:  tuple(list(Counter(x).most_common(1))[0][0].split()))\n",
    "len(all_genres_en[\"best_ngram\"].drop_duplicates())"
   ]
  },
  {
   "cell_type": "code",
   "execution_count": 3,
   "metadata": {},
   "outputs": [],
   "source": [
    "from collections import defaultdict\n",
    "all_chords = []\n",
    "for chord in all_genres_en[\"chords\"]:\n",
    "    l = literal_eval(chord)\n",
    "    all_chords += l\n",
    "# df[\"chords\"]\n",
    "counter = Counter(all_chords)\n",
    "max_value = counter.most_common(1)[0][1]\n",
    "chord_rarity = {k:(1-i/(1+max_value)) for k, i in counter.items()}\n",
    "chord_rarity = defaultdict(lambda: 1, chord_rarity)\n",
    "# chord_rarity\n",
    "def progression_rarity(progression: List[str], chord_rarity: Dict[str, float]):\n",
    "    rarity = 1\n",
    "    for chord in progression:\n",
    "        rarity *= chord_rarity[chord]\n",
    "    return rarity \n"
   ]
  },
  {
   "cell_type": "code",
   "execution_count": 4,
   "metadata": {},
   "outputs": [
    {
     "data": {
      "text/plain": [
       "<AxesSubplot:ylabel='Frequency'>"
      ]
     },
     "execution_count": 4,
     "metadata": {},
     "output_type": "execute_result"
    },
    {
     "data": {
      "image/png": "[encoded data removed]",
      "text/plain": [
       "<Figure size 432x288 with 1 Axes>"
      ]
     },
     "metadata": {
      "needs_background": "light"
     },
     "output_type": "display_data"
    }
   ],
   "source": [
    "all_genres_en[\"rarity\"] = all_genres_en[\"best_ngram\"].apply(lambda x: progression_rarity(x,chord_rarity))\n",
    "\n",
    "# all_genres_en[all_genres_en[\"rarity\"] > 0.99].plot(kind = \"hist\")\n",
    "# all_genres_en[all_genres_en[\"rarity\"] < 0.1]\n",
    "all_genres_en[\"rarity\"].plot(kind = \"hist\", bins = 100)\n",
    "\n"
   ]
  },
  {
   "cell_type": "code",
   "execution_count": 5,
   "metadata": {},
   "outputs": [],
   "source": [
    "from copy import deepcopy\n",
    "from pychord import Chord, QualityManager\n",
    "import random\n",
    "out_of_vocab = [\"7sus\",\"mMaj7\", \"min7\", \"6#11\", \"ma7\", \"maj9b5\", \"1\", \"m#\", \"add2\", \"major\", \"mmaj7\", \"6sus2\", \"7sus2\", \"+\", \"o\", \"Gbadd9/Ab\" ]\n",
    "manager = QualityManager()\n",
    "[manager.set_quality(chord, (0,4,7,8)) for chord in out_of_vocab ]\n",
    "# set_quality(\"7sus\", (9,2))\n",
    "\n",
    "\n",
    "def transpose_song(progression: List[str], transpose_val: int) -> Set[Tuple[str]]:\n",
    "    roots = \"A A# B C C# D D# E F F# G G#\".split()\n",
    "    prog_chords = []\n",
    "    for chord in progression:\n",
    "        try:\n",
    "            c_chord = Chord(chord)\n",
    "            prog_chords.append(c_chord)\n",
    "        except:\n",
    "            return {}\n",
    "    possible_progs = set()\n",
    "    for root in roots:\n",
    "        temp = []\n",
    "        for chord in prog_chords:\n",
    "            new_chord = deepcopy(chord)\n",
    "            new_chord.transpose(transpose_val, scale = root)\n",
    "            temp.append(new_chord)\n",
    "        possible_progs.add(tuple([chord.chord for chord in temp]))\n",
    "    return possible_progs\n",
    "        \n",
    "def duplicate_chord_prog(chord_progression: List[str], duplicate_num: int):\n",
    "\n",
    "    transpositions = []\n",
    "    for i in range(1,12):\n",
    "        transpositions += list(transpose_song(chord_progression, i))\n",
    "    selection = random.sample(transpositions, min(len(transpositions), duplicate_num))\n",
    "    return selection\n",
    "\n",
    "def duplicate_song(song: pd.Series, num_duplicates: int = 10)->  pd.DataFrame:\n",
    "    duplicates = []\n",
    "    chords = song[\"best_ngram\"]\n",
    "    duplicates_chords = duplicate_chord_prog(chords, 100)\n",
    "    if len(duplicates_chords) ==0:\n",
    "        return pd.DataFrame()\n",
    "    for i in range(len(duplicates_chords)):\n",
    "        chosen_chords = duplicates_chords[i]\n",
    "        new_song = deepcopy(song)\n",
    "        new_song[\"best_ngram\"] = chosen_chords\n",
    "        new_song[\"rarity\"] =progression_rarity(chosen_chords, chord_rarity)\n",
    "        duplicates.append(new_song)\n",
    "    df =pd.DataFrame(duplicates)#.sort_values(by=[\"rarity\"],ascending= False)\n",
    "\n",
    "    return df.iloc[:num_duplicates,:]"
   ]
  },
  {
   "cell_type": "code",
   "execution_count": 6,
   "metadata": {},
   "outputs": [
    {
     "data": {
      "text/plain": [
       "27       None\n",
       "31       None\n",
       "36       None\n",
       "66       None\n",
       "74       None\n",
       "         ... \n",
       "23492    None\n",
       "23504    None\n",
       "23529    None\n",
       "23562    None\n",
       "23568    None\n",
       "Length: 3199, dtype: object"
      ]
     },
     "execution_count": 6,
     "metadata": {},
     "output_type": "execute_result"
    }
   ],
   "source": [
    "duplicates = []\n",
    "all_genres_en[all_genres_en[\"rarity\"] > 0.5].apply(lambda x: duplicates.append(duplicate_song(x,5)), axis = 1)\n"
   ]
  },
  {
   "cell_type": "code",
   "execution_count": 7,
   "metadata": {},
   "outputs": [
    {
     "name": "stderr",
     "output_type": "stream",
     "text": [
      "C:\\Users\\bench\\AppData\\Roaming\\Python\\Python38\\site-packages\\spacy\\util.py:837: UserWarning: [W095] Model 'en_core_web_sm' (3.2.0) was trained with spaCy v3.2 and may not be 100% compatible with the current version (3.3.0). If you see errors or degraded performance, download a newer compatible model or retrain your custom model with the current spaCy version. For more details and available updates, run: python -m spacy validate\n",
      "  warnings.warn(warn_msg)\n",
      "c:\\Users\\bench\\anaconda3\\envs\\p38\\lib\\site-packages\\torchtext\\data\\utils.py:123: UserWarning: Spacy model \"en\" could not be loaded, trying \"en_core_web_sm\" instead\n",
      "  warnings.warn(f'Spacy model \"{language}\" could not be loaded, trying \"{OLD_MODEL_SHORTCUTS[language]}\" instead')\n"
     ]
    },
    {
     "name": "stdout",
     "output_type": "stream",
     "text": [
      "39164\n"
     ]
    },
    {
     "data": {
      "image/png": "[encoded data removed]",
      "text/plain": [
       "<Figure size 432x288 with 1 Axes>"
      ]
     },
     "metadata": {
      "needs_background": "light"
     },
     "output_type": "display_data"
    }
   ],
   "source": [
    "from model_helpers import preprocess_text\n",
    "new_df = pd.concat(duplicates)\n",
    "final_df = pd.concat([new_df, all_genres_en])\n",
    "print(len(final_df))\n",
    "final_df[\"rarity\"].plot(kind = \"hist\", bins = 100)\n",
    "final_df[\"lyrics\"] = final_df[\"lyrics\"].apply(preprocess_text)\n",
    "final_df.drop(columns=[\"name\", \"author\", 'link', \"chords\", 'genre', 'actual_name', 'language', 'ngrams']).to_csv(\"./model_data/lyrics_processed_2.csv\", index=False)"
   ]
  },
  {
   "cell_type": "code",
   "execution_count": null,
   "metadata": {},
   "outputs": [],
   "source": []
  }
 ],
 "metadata": {
  "kernelspec": {
   "display_name": "Python 3.8.12 ('p38')",
   "language": "python",
   "name": "python3"
  },
  "language_info": {
   "codemirror_mode": {
    "name": "ipython",
    "version": 3
   },
   "file_extension": ".py",
   "mimetype": "text/x-python",
   "name": "python",
   "nbconvert_exporter": "python",
   "pygments_lexer": "ipython3",
   "version": "3.8.12"
  },
  "orig_nbformat": 4,
  "vscode": {
   "interpreter": {
    "hash": "2c08fb7d0681ab80e3191df3cdd3d9ae56e033f792b7fa01572cc6446116ecae"
   }
  }
 },
 "nbformat": 4,
 "nbformat_minor": 2
}
