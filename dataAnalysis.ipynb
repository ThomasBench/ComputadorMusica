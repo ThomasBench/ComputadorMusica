{
 "cells": [
  {
   "cell_type": "markdown",
   "metadata": {},
   "source": [
    "# Data analysis"
   ]
  },
  {
   "cell_type": "code",
   "execution_count": 39,
   "metadata": {},
   "outputs": [],
   "source": [
    "import pandas as pd\n",
    "import numpy as np\n",
    "from nltk.corpus import words"
   ]
  },
  {
   "cell_type": "code",
   "execution_count": 2,
   "metadata": {},
   "outputs": [
    {
     "data": {
      "text/html": [
       "<div>\n",
       "<style scoped>\n",
       "    .dataframe tbody tr th:only-of-type {\n",
       "        vertical-align: middle;\n",
       "    }\n",
       "\n",
       "    .dataframe tbody tr th {\n",
       "        vertical-align: top;\n",
       "    }\n",
       "\n",
       "    .dataframe thead th {\n",
       "        text-align: right;\n",
       "    }\n",
       "</style>\n",
       "<table border=\"1\" class=\"dataframe\">\n",
       "  <thead>\n",
       "    <tr style=\"text-align: right;\">\n",
       "      <th></th>\n",
       "      <th>name</th>\n",
       "      <th>author</th>\n",
       "      <th>link</th>\n",
       "      <th>lyrics</th>\n",
       "      <th>chords</th>\n",
       "      <th>genre</th>\n",
       "      <th>actual_name</th>\n",
       "      <th>language</th>\n",
       "      <th>clean_lyrics</th>\n",
       "    </tr>\n",
       "  </thead>\n",
       "  <tbody>\n",
       "    <tr>\n",
       "      <th>0</th>\n",
       "      <td>As Long As The Grass Shall Grow</td>\n",
       "      <td>Johnny Cash</td>\n",
       "      <td>https://tabs.ultimate-guitar.com/tab/johnny-ca...</td>\n",
       "      <td>As long,  As the moon shall rise,     As ...</td>\n",
       "      <td>['A', 'E', 'A', 'A', 'E', 'A', 'D', 'D', 'A', ...</td>\n",
       "      <td>Country</td>\n",
       "      <td>As Long As The Grass Shall Grow</td>\n",
       "      <td>en</td>\n",
       "      <td>As long,  As the moon shall rise,     As ...</td>\n",
       "    </tr>\n",
       "    <tr>\n",
       "      <th>1</th>\n",
       "      <td>Delias Gone (ver 4)</td>\n",
       "      <td>Johnny Cash</td>\n",
       "      <td>https://tabs.ultimate-guitar.com/tab/johnny-ca...</td>\n",
       "      <td>Delia, oh, Delia Delia all my life\\r\\nIf I had...</td>\n",
       "      <td>['A', 'D', 'A', 'A7', 'D', 'B7', 'E', 'A', 'D'...</td>\n",
       "      <td>Country</td>\n",
       "      <td>Delias Gone</td>\n",
       "      <td>en</td>\n",
       "      <td>Delia, oh, Delia Delia all my life If I hadn't...</td>\n",
       "    </tr>\n",
       "    <tr>\n",
       "      <th>2</th>\n",
       "      <td>Mean Eyed Cat</td>\n",
       "      <td>Johnny Cash</td>\n",
       "      <td>https://tabs.ultimate-guitar.com/tab/johnny-ca...</td>\n",
       "      <td>I gave my woman half my money at the general s...</td>\n",
       "      <td>['E', 'B7', 'E', 'A7', 'B7', 'E', 'E', 'B7', '...</td>\n",
       "      <td>Country</td>\n",
       "      <td>Mean Eyed Cat</td>\n",
       "      <td>en</td>\n",
       "      <td>I gave my woman half my money at the general s...</td>\n",
       "    </tr>\n",
       "    <tr>\n",
       "      <th>3</th>\n",
       "      <td>I Couldnt Keep From Crying</td>\n",
       "      <td>Johnny Cash</td>\n",
       "      <td>https://tabs.ultimate-guitar.com/tab/johnny-ca...</td>\n",
       "      <td>I SAW YOU WALKING BY HIS SIDE,\\r\\nHEARD YOU W...</td>\n",
       "      <td>['A', 'A7', 'D', 'A', 'E7', 'A', 'A7', 'D', 'A...</td>\n",
       "      <td>Country</td>\n",
       "      <td>I Couldnt Keep From Crying</td>\n",
       "      <td>en</td>\n",
       "      <td>I SAW YOU WALKING BY HIS SIDE, HEARD YOU WHIS...</td>\n",
       "    </tr>\n",
       "    <tr>\n",
       "      <th>4</th>\n",
       "      <td>It Aint Me Babe (ver 3)</td>\n",
       "      <td>Johnny Cash</td>\n",
       "      <td>https://tabs.ultimate-guitar.com/tab/johnny-ca...</td>\n",
       "      <td>Go 'way from my window leave at your own chose...</td>\n",
       "      <td>['A', 'Bm', 'A', 'E', 'A', 'A', 'Bm', 'A', 'E'...</td>\n",
       "      <td>Country</td>\n",
       "      <td>It Aint Me Babe</td>\n",
       "      <td>en</td>\n",
       "      <td>Go 'way from my window leave at your own chose...</td>\n",
       "    </tr>\n",
       "  </tbody>\n",
       "</table>\n",
       "</div>"
      ],
      "text/plain": [
       "                              name       author  \\\n",
       "0  As Long As The Grass Shall Grow  Johnny Cash   \n",
       "1              Delias Gone (ver 4)  Johnny Cash   \n",
       "2                    Mean Eyed Cat  Johnny Cash   \n",
       "3       I Couldnt Keep From Crying  Johnny Cash   \n",
       "4          It Aint Me Babe (ver 3)  Johnny Cash   \n",
       "\n",
       "                                                link  \\\n",
       "0  https://tabs.ultimate-guitar.com/tab/johnny-ca...   \n",
       "1  https://tabs.ultimate-guitar.com/tab/johnny-ca...   \n",
       "2  https://tabs.ultimate-guitar.com/tab/johnny-ca...   \n",
       "3  https://tabs.ultimate-guitar.com/tab/johnny-ca...   \n",
       "4  https://tabs.ultimate-guitar.com/tab/johnny-ca...   \n",
       "\n",
       "                                              lyrics  \\\n",
       "0       As long,  As the moon shall rise,     As ...   \n",
       "1  Delia, oh, Delia Delia all my life\\r\\nIf I had...   \n",
       "2  I gave my woman half my money at the general s...   \n",
       "3   I SAW YOU WALKING BY HIS SIDE,\\r\\nHEARD YOU W...   \n",
       "4  Go 'way from my window leave at your own chose...   \n",
       "\n",
       "                                              chords    genre  \\\n",
       "0  ['A', 'E', 'A', 'A', 'E', 'A', 'D', 'D', 'A', ...  Country   \n",
       "1  ['A', 'D', 'A', 'A7', 'D', 'B7', 'E', 'A', 'D'...  Country   \n",
       "2  ['E', 'B7', 'E', 'A7', 'B7', 'E', 'E', 'B7', '...  Country   \n",
       "3  ['A', 'A7', 'D', 'A', 'E7', 'A', 'A7', 'D', 'A...  Country   \n",
       "4  ['A', 'Bm', 'A', 'E', 'A', 'A', 'Bm', 'A', 'E'...  Country   \n",
       "\n",
       "                       actual_name language  \\\n",
       "0  As Long As The Grass Shall Grow       en   \n",
       "1                      Delias Gone       en   \n",
       "2                    Mean Eyed Cat       en   \n",
       "3       I Couldnt Keep From Crying       en   \n",
       "4                  It Aint Me Babe       en   \n",
       "\n",
       "                                        clean_lyrics  \n",
       "0       As long,  As the moon shall rise,     As ...  \n",
       "1  Delia, oh, Delia Delia all my life If I hadn't...  \n",
       "2  I gave my woman half my money at the general s...  \n",
       "3   I SAW YOU WALKING BY HIS SIDE, HEARD YOU WHIS...  \n",
       "4  Go 'way from my window leave at your own chose...  "
      ]
     },
     "execution_count": 2,
     "metadata": {},
     "output_type": "execute_result"
    }
   ],
   "source": [
    "songs = pd.read_json('data/all_genres_en.json')\n",
    "songs.head()"
   ]
  },
  {
   "cell_type": "markdown",
   "metadata": {},
   "source": [
    "#### Genres"
   ]
  },
  {
   "cell_type": "code",
   "execution_count": 11,
   "metadata": {},
   "outputs": [
    {
     "data": {
      "text/plain": [
       "<AxesSubplot:>"
      ]
     },
     "execution_count": 11,
     "metadata": {},
     "output_type": "execute_result"
    },
    {
     "data": {
      "image/png": "[encoded data removed]",
      "text/plain": [
       "<Figure size 432x288 with 1 Axes>"
      ]
     },
     "metadata": {
      "needs_background": "light"
     },
     "output_type": "display_data"
    }
   ],
   "source": [
    "songs['genre'].value_counts().plot(kind='bar')\n"
   ]
  },
  {
   "cell_type": "markdown",
   "metadata": {},
   "source": [
    "#### Tokenization + lemmatization\n",
    "Do word counts for the lyrics of all songs through the different genres."
   ]
  },
  {
   "cell_type": "markdown",
   "metadata": {},
   "source": [
    "#### Compare number of words per genre\n",
    "Uses nltk for tokenization + lemmatization: https://medium.com/mlearning-ai/nlp-tokenization-stemming-lemmatization-and-part-of-speech-tagging-9088ac068768\n"
   ]
  },
  {
   "cell_type": "code",
   "execution_count": 3,
   "metadata": {},
   "outputs": [],
   "source": [
    "import spacy\n",
    "from tokenizer import tokenizer\n",
    "import pandas as pd\n",
    "from wordcloud import WordCloud\n",
    "import matplotlib.pyplot as plt\n",
    "from collections import Counter\n",
    "\n",
    "nlp = spacy.load('en_core_web_sm')\n",
    "# nlp.remove_pipe('tagger')\n",
    "# nlp.remove_pipe('parser')\n",
    "nlp.remove_pipe('ner')\n",
    "nlp.remove_pipe('senter')\n",
    "\n",
    "stop_words = spacy.lang.en.stop_words.STOP_WORDS"
   ]
  },
  {
   "cell_type": "code",
   "execution_count": 45,
   "metadata": {},
   "outputs": [],
   "source": [
    "lyrics_per_genre = {}\n",
    "for genre in songs.genre.value_counts().keys():\n",
    "    lyrics_per_genre[genre] = ' '.join(songs[songs.genre == genre]['lyrics']).lower().replace('-', '')"
   ]
  },
  {
   "cell_type": "code",
   "execution_count": 5,
   "metadata": {},
   "outputs": [],
   "source": [
    "def wordcloud_most_common_words(lyrics):\n",
    "    font_path = 'Roboto/Roboto-Black.ttf'\n",
    "    # lower max_font_size\n",
    "    wordcloud = WordCloud(font_path=font_path, width=6000, height=3000, background_color=\"black\", colormap='Set1').generate(lyrics)\n",
    "    wordcloud.recolor(colormap='gist_rainbow', random_state=1)\n",
    "    #black: gist_rainbow\n",
    "    plt.figure(figsize=(16,8))\n",
    "    plt.imshow(wordcloud, interpolation='bilinear')\n",
    "    plt.axis('off')\n",
    "    plt.tight_layout(pad=0)\n",
    "    plt.show()"
   ]
  },
  {
   "cell_type": "code",
   "execution_count": 46,
   "metadata": {},
   "outputs": [
    {
     "data": {
      "text/plain": [
       "8876592"
      ]
     },
     "execution_count": 46,
     "metadata": {},
     "output_type": "execute_result"
    }
   ],
   "source": [
    "len(lyrics_per_genre['Rock'])"
   ]
  },
  {
   "cell_type": "code",
   "execution_count": 51,
   "metadata": {},
   "outputs": [],
   "source": [
    "class Genre:\n",
    "    def __init__(self, name):\n",
    "        \n",
    "        corpus = set(words.words())\n",
    "        nlp.max_length = 11_000_000\n",
    "\n",
    "        self.name = name\n",
    "        print(f'\\n---> Creating spacy document for genre: {name}.')\n",
    "        self.doc = nlp(lyrics_per_genre[name][0:500_000])\n",
    "        print(f'Getting NOUN, VERB, and PRONOUN frequencies.')\n",
    "        self.nouns = [token.lemma_ for token in self.doc if token.pos_ == 'NOUN' and token.is_stop == False and token.is_punct == False and token.text in corpus]\n",
    "        self.verbs = [token.lemma_ for token in self.doc if token.pos_ == 'VERB' and token.is_stop == False and token.is_punct == False and token.text in corpus]\n",
    "        self.pronouns = [token.lemma_ for token in self.doc if token.pos_ == 'PRON' and token.is_stop == False and token.is_punct == False and token.text in corpus]\n",
    "        self.nouns_freq = Counter(self.nouns)\n",
    "        self.verbs_freq = Counter(self.verbs)\n",
    "        self.pronouns_freq = Counter(self.pronouns)\n",
    "\n",
    "        print(f'NOUNS: {self.nouns_freq.most_common(7)}')\n",
    "        print(f'VERBS: {self.verbs_freq.most_common(7)}')\n",
    "        print(f'PRONOUNS: {self.pronouns_freq.most_common(7)}')\n",
    "\n",
    "        self.unique_nouns = self.get_unique_nouns()\n",
    "        print(f'Number of unique nouns: {len(self.unique_nouns)}.')\n",
    "\n",
    "    \n",
    "    def get_unique_nouns(self):\n",
    "        corpus = set(words.words())\n",
    "        filtered_set = set()\n",
    "        for word in np.unique(self.nouns):\n",
    "            if word in corpus:\n",
    "                filtered_set.add(word)\n",
    "        return filtered_set\n",
    "        "
   ]
  },
  {
   "cell_type": "code",
   "execution_count": 52,
   "metadata": {},
   "outputs": [
    {
     "name": "stdout",
     "output_type": "stream",
     "text": [
      "\n",
      "---> Creating spacy document for genre: Country.\n",
      "Getting NOUN, VERB, and PRONOUN frequencies.\n",
      "NOUNS: [('love', 427), ('time', 350), ('man', 330), ('day', 287), ('way', 249), ('heart', 246), ('night', 214)]\n",
      "VERBS: [('know', 610), ('get', 461), ('go', 419), ('come', 351), ('love', 269), ('let', 251), ('tell', 245)]\n",
      "PRONOUNS: [('somebody', 52), ('everybody', 29), ('ya', 11), ('thee', 9), ('thy', 5), ('anybody', 4), ('em', 4)]\n",
      "Number of unique nouns: 1774.\n",
      "\n",
      "---> Creating spacy document for genre: Rock.\n",
      "Getting NOUN, VERB, and PRONOUN frequencies.\n",
      "NOUNS: [('love', 421), ('time', 349), ('day', 245), ('baby', 242), ('way', 223), ('man', 214), ('girl', 194)]\n",
      "VERBS: [('know', 645), ('get', 510), ('come', 449), ('go', 442), ('love', 301), ('think', 286), ('tell', 282)]\n",
      "PRONOUNS: [('somebody', 48), ('everybody', 46), ('ya', 17), ('anybody', 7), ('la', 6), ('em', 5), ('s', 4)]\n",
      "Number of unique nouns: 1635.\n",
      "\n",
      "---> Creating spacy document for genre: R&b, Funk & Soul.\n",
      "Getting NOUN, VERB, and PRONOUN frequencies.\n",
      "NOUNS: [('love', 678), ('baby', 576), ('time', 451), ('way', 270), ('girl', 269), ('heart', 253), ('night', 228)]\n",
      "VERBS: [('know', 847), ('go', 562), ('get', 478), ('love', 449), ('come', 432), ('let', 404), ('want', 365)]\n",
      "PRONOUNS: [('everybody', 70), ('somebody', 50), ('ya', 43), ('anybody', 23), ('la', 2), ('em', 1), ('u', 1)]\n",
      "Number of unique nouns: 1288.\n",
      "\n",
      "---> Creating spacy document for genre: Pop.\n",
      "Getting NOUN, VERB, and PRONOUN frequencies.\n",
      "NOUNS: [('love', 519), ('time', 380), ('heart', 327), ('baby', 289), ('way', 264), ('night', 227), ('life', 206)]\n",
      "VERBS: [('know', 716), ('go', 379), ('let', 367), ('get', 367), ('come', 337), ('feel', 318), ('love', 315)]\n",
      "PRONOUNS: [('everybody', 48), ('somebody', 32), ('anybody', 28), ('ya', 24), ('d', 3), ('em', 1), ('hey', 1)]\n",
      "Number of unique nouns: 1458.\n",
      "\n",
      "---> Creating spacy document for genre: Jazz.\n",
      "Getting NOUN, VERB, and PRONOUN frequencies.\n",
      "NOUNS: [('love', 640), ('time', 345), ('day', 319), ('way', 282), ('baby', 270), ('night', 258), ('heart', 245)]\n",
      "VERBS: [('know', 589), ('love', 473), ('go', 456), ('come', 424), ('let', 392), ('get', 344), ('tell', 248)]\n",
      "PRONOUNS: [('somebody', 48), ('everybody', 40), ('ya', 16), ('thee', 10), ('tra', 2), ('s', 1), ('oho', 1)]\n",
      "Number of unique nouns: 1752.\n"
     ]
    }
   ],
   "source": [
    "country = Genre('Country')\n",
    "rock = Genre('Rock')\n",
    "rb_funk_soul = Genre('R&b, Funk & Soul')\n",
    "pop = Genre('Pop')\n",
    "jazz = Genre('Jazz')"
   ]
  },
  {
   "cell_type": "markdown",
   "metadata": {},
   "source": [
    "#### Number of unique lemmas per genre"
   ]
  },
  {
   "cell_type": "code",
   "execution_count": null,
   "metadata": {},
   "outputs": [],
   "source": []
  }
 ],
 "metadata": {
  "interpreter": {
   "hash": "d674aba619e9128d5d95f68874c090de0e48b8e67c1ba838c5d294b8a6cf0663"
  },
  "kernelspec": {
   "display_name": "Python 3.8.8 ('base')",
   "language": "python",
   "name": "python3"
  },
  "language_info": {
   "codemirror_mode": {
    "name": "ipython",
    "version": 3
   },
   "file_extension": ".py",
   "mimetype": "text/x-python",
   "name": "python",
   "nbconvert_exporter": "python",
   "pygments_lexer": "ipython3",
   "version": "3.8.8"
  },
  "orig_nbformat": 4
 },
 "nbformat": 4,
 "nbformat_minor": 2
}
