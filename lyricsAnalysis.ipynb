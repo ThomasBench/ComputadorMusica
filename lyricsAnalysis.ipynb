{
 "cells": [
  {
   "cell_type": "markdown",
   "metadata": {},
   "source": [
    "# Lyrics analysis\n",
    "In this notebook, we analyse the lyrics of the songs in the extracted dataset. We pose and answer the following questions:\n",
    "1. What is the genre distribution?\n",
    "2. What are the sentiments attributed by the lyrics in a scale from -1 to +1? \n",
    "3. What is the lyricity in each genre (i.e. number of unique words, main verbs and nouns)?\n",
    "4. What are the emotions in each genre?"
   ]
  },
  {
   "cell_type": "code",
   "execution_count": 1,
   "metadata": {},
   "outputs": [],
   "source": [
    "import pandas as pd\n",
    "import numpy as np\n",
    "from matplotlib import pyplot as plt\n",
    "from nltk.corpus import words\n",
    "from collections import Counter\n",
    "from tqdm import tqdm"
   ]
  },
  {
   "cell_type": "code",
   "execution_count": 3,
   "metadata": {},
   "outputs": [
    {
     "name": "stdout",
     "output_type": "stream",
     "text": [
      "(29617, 9)\n"
     ]
    },
    {
     "data": {
      "text/html": [
       "<div>\n",
       "<style scoped>\n",
       "    .dataframe tbody tr th:only-of-type {\n",
       "        vertical-align: middle;\n",
       "    }\n",
       "\n",
       "    .dataframe tbody tr th {\n",
       "        vertical-align: top;\n",
       "    }\n",
       "\n",
       "    .dataframe thead th {\n",
       "        text-align: right;\n",
       "    }\n",
       "</style>\n",
       "<table border=\"1\" class=\"dataframe\">\n",
       "  <thead>\n",
       "    <tr style=\"text-align: right;\">\n",
       "      <th></th>\n",
       "      <th>name</th>\n",
       "      <th>author</th>\n",
       "      <th>link</th>\n",
       "      <th>lyrics</th>\n",
       "      <th>chords</th>\n",
       "      <th>genre</th>\n",
       "      <th>actual_name</th>\n",
       "      <th>language</th>\n",
       "      <th>clean_lyrics</th>\n",
       "    </tr>\n",
       "  </thead>\n",
       "  <tbody>\n",
       "    <tr>\n",
       "      <th>0</th>\n",
       "      <td>As Long As The Grass Shall Grow</td>\n",
       "      <td>Johnny Cash</td>\n",
       "      <td>https://tabs.ultimate-guitar.com/tab/johnny-ca...</td>\n",
       "      <td>As long,  As the moon shall rise,     As ...</td>\n",
       "      <td>['A', 'E', 'A', 'A', 'E', 'A', 'D', 'D', 'A', ...</td>\n",
       "      <td>Country</td>\n",
       "      <td>As Long As The Grass Shall Grow</td>\n",
       "      <td>en</td>\n",
       "      <td>As long,  As the moon shall rise,     As ...</td>\n",
       "    </tr>\n",
       "    <tr>\n",
       "      <th>1</th>\n",
       "      <td>Delias Gone (ver 4)</td>\n",
       "      <td>Johnny Cash</td>\n",
       "      <td>https://tabs.ultimate-guitar.com/tab/johnny-ca...</td>\n",
       "      <td>Delia, oh, Delia Delia all my life\\r\\nIf I had...</td>\n",
       "      <td>['A', 'D', 'A', 'A7', 'D', 'B7', 'E', 'A', 'D'...</td>\n",
       "      <td>Country</td>\n",
       "      <td>Delias Gone</td>\n",
       "      <td>en</td>\n",
       "      <td>Delia, oh, Delia Delia all my life If I hadn't...</td>\n",
       "    </tr>\n",
       "    <tr>\n",
       "      <th>2</th>\n",
       "      <td>Mean Eyed Cat</td>\n",
       "      <td>Johnny Cash</td>\n",
       "      <td>https://tabs.ultimate-guitar.com/tab/johnny-ca...</td>\n",
       "      <td>I gave my woman half my money at the general s...</td>\n",
       "      <td>['E', 'B7', 'E', 'A7', 'B7', 'E', 'E', 'B7', '...</td>\n",
       "      <td>Country</td>\n",
       "      <td>Mean Eyed Cat</td>\n",
       "      <td>en</td>\n",
       "      <td>I gave my woman half my money at the general s...</td>\n",
       "    </tr>\n",
       "    <tr>\n",
       "      <th>3</th>\n",
       "      <td>I Couldnt Keep From Crying</td>\n",
       "      <td>Johnny Cash</td>\n",
       "      <td>https://tabs.ultimate-guitar.com/tab/johnny-ca...</td>\n",
       "      <td>I SAW YOU WALKING BY HIS SIDE,\\r\\nHEARD YOU W...</td>\n",
       "      <td>['A', 'A7', 'D', 'A', 'E7', 'A', 'A7', 'D', 'A...</td>\n",
       "      <td>Country</td>\n",
       "      <td>I Couldnt Keep From Crying</td>\n",
       "      <td>en</td>\n",
       "      <td>I SAW YOU WALKING BY HIS SIDE, HEARD YOU WHIS...</td>\n",
       "    </tr>\n",
       "    <tr>\n",
       "      <th>4</th>\n",
       "      <td>It Aint Me Babe (ver 3)</td>\n",
       "      <td>Johnny Cash</td>\n",
       "      <td>https://tabs.ultimate-guitar.com/tab/johnny-ca...</td>\n",
       "      <td>Go 'way from my window leave at your own chose...</td>\n",
       "      <td>['A', 'Bm', 'A', 'E', 'A', 'A', 'Bm', 'A', 'E'...</td>\n",
       "      <td>Country</td>\n",
       "      <td>It Aint Me Babe</td>\n",
       "      <td>en</td>\n",
       "      <td>Go 'way from my window leave at your own chose...</td>\n",
       "    </tr>\n",
       "  </tbody>\n",
       "</table>\n",
       "</div>"
      ],
      "text/plain": [
       "                              name       author  \\\n",
       "0  As Long As The Grass Shall Grow  Johnny Cash   \n",
       "1              Delias Gone (ver 4)  Johnny Cash   \n",
       "2                    Mean Eyed Cat  Johnny Cash   \n",
       "3       I Couldnt Keep From Crying  Johnny Cash   \n",
       "4          It Aint Me Babe (ver 3)  Johnny Cash   \n",
       "\n",
       "                                                link  \\\n",
       "0  https://tabs.ultimate-guitar.com/tab/johnny-ca...   \n",
       "1  https://tabs.ultimate-guitar.com/tab/johnny-ca...   \n",
       "2  https://tabs.ultimate-guitar.com/tab/johnny-ca...   \n",
       "3  https://tabs.ultimate-guitar.com/tab/johnny-ca...   \n",
       "4  https://tabs.ultimate-guitar.com/tab/johnny-ca...   \n",
       "\n",
       "                                              lyrics  \\\n",
       "0       As long,  As the moon shall rise,     As ...   \n",
       "1  Delia, oh, Delia Delia all my life\\r\\nIf I had...   \n",
       "2  I gave my woman half my money at the general s...   \n",
       "3   I SAW YOU WALKING BY HIS SIDE,\\r\\nHEARD YOU W...   \n",
       "4  Go 'way from my window leave at your own chose...   \n",
       "\n",
       "                                              chords    genre  \\\n",
       "0  ['A', 'E', 'A', 'A', 'E', 'A', 'D', 'D', 'A', ...  Country   \n",
       "1  ['A', 'D', 'A', 'A7', 'D', 'B7', 'E', 'A', 'D'...  Country   \n",
       "2  ['E', 'B7', 'E', 'A7', 'B7', 'E', 'E', 'B7', '...  Country   \n",
       "3  ['A', 'A7', 'D', 'A', 'E7', 'A', 'A7', 'D', 'A...  Country   \n",
       "4  ['A', 'Bm', 'A', 'E', 'A', 'A', 'Bm', 'A', 'E'...  Country   \n",
       "\n",
       "                       actual_name language  \\\n",
       "0  As Long As The Grass Shall Grow       en   \n",
       "1                      Delias Gone       en   \n",
       "2                    Mean Eyed Cat       en   \n",
       "3       I Couldnt Keep From Crying       en   \n",
       "4                  It Aint Me Babe       en   \n",
       "\n",
       "                                        clean_lyrics  \n",
       "0       As long,  As the moon shall rise,     As ...  \n",
       "1  Delia, oh, Delia Delia all my life If I hadn't...  \n",
       "2  I gave my woman half my money at the general s...  \n",
       "3   I SAW YOU WALKING BY HIS SIDE, HEARD YOU WHIS...  \n",
       "4  Go 'way from my window leave at your own chose...  "
      ]
     },
     "execution_count": 3,
     "metadata": {},
     "output_type": "execute_result"
    }
   ],
   "source": [
    "songs = pd.read_json('data/all_genres_en.json')\n",
    "print(songs.shape)\n",
    "songs.head()"
   ]
  },
  {
   "cell_type": "markdown",
   "metadata": {},
   "source": [
    "**ABOUT THE DATASET**: 29.6 thousand songs. Contains columns as: name, author, link, lyrics, chords, genre, and language (only English songs are kept)."
   ]
  },
  {
   "cell_type": "markdown",
   "metadata": {},
   "source": [
    "### Q1: What is the genre distribution?"
   ]
  },
  {
   "cell_type": "code",
   "execution_count": 3,
   "metadata": {},
   "outputs": [
    {
     "data": {
      "image/png": "[encoded data removed]",
      "text/plain": [
       "<Figure size 432x288 with 1 Axes>"
      ]
     },
     "metadata": {
      "needs_background": "light"
     },
     "output_type": "display_data"
    }
   ],
   "source": [
    "songs['genre'].value_counts().values\n",
    "\n",
    "plt.barh(songs['genre'].value_counts().keys()[::-1], songs['genre'].value_counts().values[::-1], color=['blue', 'red', 'purple', 'black', 'green'], alpha=0.67)\n",
    "plt.grid(axis='x')\n",
    "plt.title('Songs per genre')\n",
    "plt.xlabel('Count')\n",
    "plt.rcParams['font.size'] = '13'"
   ]
  },
  {
   "cell_type": "markdown",
   "metadata": {},
   "source": [
    "**CONCLUSION**: See the plot above!"
   ]
  },
  {
   "cell_type": "markdown",
   "metadata": {},
   "source": [
    "### Q2: What are the sentiments attributed by the lyrics in a scale from -1 to +1? \n",
    "Here, -1 means most negative polarity, and +1 most positive."
   ]
  },
  {
   "cell_type": "code",
   "execution_count": 7,
   "metadata": {},
   "outputs": [
    {
     "name": "stderr",
     "output_type": "stream",
     "text": [
      "[nltk_data] Downloading package vader_lexicon to\n",
      "[nltk_data]     C:\\Users\\mathe\\AppData\\Roaming\\nltk_data...\n",
      "[nltk_data]   Package vader_lexicon is already up-to-date!\n"
     ]
    },
    {
     "data": {
      "text/plain": [
       "True"
      ]
     },
     "execution_count": 7,
     "metadata": {},
     "output_type": "execute_result"
    }
   ],
   "source": [
    "import nltk\n",
    "nltk.downloader.download('vader_lexicon')"
   ]
  },
  {
   "cell_type": "code",
   "execution_count": 8,
   "metadata": {},
   "outputs": [
    {
     "name": "stderr",
     "output_type": "stream",
     "text": [
      "100%|██████████| 29617/29617 [01:37<00:00, 302.97it/s]\n"
     ]
    }
   ],
   "source": [
    "from nltk.sentiment.vader import SentimentIntensityAnalyzer\n",
    "\n",
    "analyzer = SentimentIntensityAnalyzer() # initialize the Vader sentiment analyzer\n",
    "\n",
    "tqdm.pandas()\n",
    "\n",
    "def get_sentiment(compound, threshold=0.3):\n",
    "    \"\"\"Compound is a value between -1 and 1.\"\"\"\n",
    "    if compound > threshold:\n",
    "        return 'positive'\n",
    "    elif compound < -threshold:\n",
    "        return 'negative'\n",
    "    elif -threshold < compound < threshold:\n",
    "        return 'neutral'\n",
    "    raise ValueError\n",
    "\n",
    "songs['sentiment'] = songs['clean_lyrics'].progress_apply(lambda lyrics: analyzer.polarity_scores(lyrics))\n",
    "songs['sentiment_name'] = songs['sentiment'].apply(lambda sentiment: get_sentiment(sentiment['compound']))\n",
    "songs['sentiment_compound'] = songs['sentiment'].apply(lambda dict: dict['compound'])\n",
    "\n",
    "# songs.to_json('data/songs_with_sentiment.json.bz2', compression='bz2')"
   ]
  },
  {
   "cell_type": "code",
   "execution_count": 19,
   "metadata": {},
   "outputs": [
    {
     "data": {
      "image/png": "[encoded data removed]",
      "text/plain": [
       "<Figure size 432x288 with 1 Axes>"
      ]
     },
     "metadata": {
      "needs_background": "light"
     },
     "output_type": "display_data"
    }
   ],
   "source": [
    "_ = plt.hist(songs['sentiment_compound'], bins=100)\n",
    "_ = plt.xlabel('Sentiment (-1 to +1)')\n",
    "_ = plt.ylabel('Count')\n",
    "_ = plt.yscale('log')"
   ]
  },
  {
   "cell_type": "code",
   "execution_count": 17,
   "metadata": {},
   "outputs": [
    {
     "name": "stdout",
     "output_type": "stream",
     "text": [
      "Number of positive songs (more than 0.3 compound): 20379\n",
      "Number of negative songs (less than -0.3 compound): 7558\n",
      "Number of neutral songs (between -0.3 and 0.3 compound): 1680\n"
     ]
    }
   ],
   "source": [
    "print(f\"Number of positive songs (more than 0.3 compound): {songs.sentiment_name.value_counts()['positive']}\")\n",
    "print(f\"Number of negative songs (less than -0.3 compound): {songs.sentiment_name.value_counts()['negative']}\")\n",
    "print(f\"Number of neutral songs (between -0.3 and 0.3 compound): {songs.sentiment_name.value_counts()['neutral']}\")"
   ]
  },
  {
   "cell_type": "markdown",
   "metadata": {},
   "source": [
    "**CONCLUSION**: See the plot of sentiment distribution above (log-scale), as well as the prints just above. Notice there are almost three times more \"positive\" songs than \"negative\" ones."
   ]
  },
  {
   "cell_type": "markdown",
   "metadata": {},
   "source": [
    "### Q3: What is the lyricity in each genre (i.e. number of unique words, main verbs and nouns)?\n",
    "See below!\n",
    "\n",
    "### Q4: What are the emotions in each genre?\n",
    "See below!"
   ]
  },
  {
   "cell_type": "markdown",
   "metadata": {},
   "source": [
    "Tokenization + lemmatization"
   ]
  },
  {
   "cell_type": "code",
   "execution_count": 20,
   "metadata": {},
   "outputs": [],
   "source": [
    "import spacy\n",
    "import pandas as pd\n",
    "import matplotlib.pyplot as plt\n",
    "from collections import Counter\n",
    "\n",
    "nlp = spacy.load('en_core_web_sm')\n",
    "nlp.remove_pipe('ner')\n",
    "nlp.remove_pipe('senter')\n",
    "\n",
    "stop_words = spacy.lang.en.stop_words.STOP_WORDS"
   ]
  },
  {
   "cell_type": "code",
   "execution_count": 21,
   "metadata": {},
   "outputs": [],
   "source": [
    "lyrics_per_genre = {}\n",
    "for genre in songs.genre.value_counts().keys():\n",
    "    lyrics_per_genre[genre] = ' '.join(songs[songs.genre == genre]['lyrics']).lower().replace('-', '')"
   ]
  },
  {
   "cell_type": "code",
   "execution_count": 30,
   "metadata": {},
   "outputs": [],
   "source": [
    "class Genre:\n",
    "    def __init__(self, name):\n",
    "        \n",
    "        corpus = set(words.words())\n",
    "        nlp.max_length = 11_000_000\n",
    "\n",
    "        self.name = name\n",
    "        print(f'---> Creating spacy document for genre: {name}.')\n",
    "        self.doc = nlp(lyrics_per_genre[name][0:200_000])\n",
    "        self.nouns = [token.lemma_ for token in self.doc if token.pos_ == 'NOUN' and token.is_stop == False and token.is_punct == False and token.text in corpus]\n",
    "        self.verbs = [token.lemma_ for token in self.doc if token.pos_ == 'VERB' and token.is_stop == False and token.is_punct == False and token.text in corpus]\n",
    "        self.pronouns = [token.lemma_ for token in self.doc if token.pos_ == 'PRON' and token.is_stop == False and token.is_punct == False and token.text in corpus]\n",
    "        self.nouns_freq = Counter(self.nouns)\n",
    "        self.verbs_freq = Counter(self.verbs)\n",
    "        self.pronouns_freq = Counter(self.pronouns)\n",
    "\n",
    "        nr = 7\n",
    "\n",
    "        print(f'NOUNS: {self.nouns_freq.most_common(nr)}')\n",
    "        print(f'VERBS: {self.verbs_freq.most_common(nr)}')\n",
    "        print(f'PRONOUNS: {self.pronouns_freq.most_common(nr)}')\n",
    "\n",
    "        self.unique_nouns = self.get_unique_nouns()\n",
    "        print(f'Number of unique nouns: {len(self.unique_nouns)}.')\n",
    "\n",
    "        a = Counter(sum([emotion for emotion in songs.loc[songs['genre'] == name]['emotion']], []))\n",
    "\n",
    "        self.primary_emotions = {k: v / total for total in (sum(a.values()),) for k, v in a.items()}\n",
    "        self.primary_emotions['genre'] = name\n",
    "\n",
    "    \n",
    "    def get_unique_nouns(self):\n",
    "        corpus = set(words.words())\n",
    "        filtered_set = set()\n",
    "        for word in np.unique(self.nouns):\n",
    "            if word in corpus:\n",
    "                filtered_set.add(word)\n",
    "        return filtered_set\n",
    "        "
   ]
  },
  {
   "cell_type": "code",
   "execution_count": 27,
   "metadata": {},
   "outputs": [],
   "source": [
    "from transformers import pipeline\n",
    "from timeit import default_timer as timer\n",
    "from tqdm import tqdm\n",
    "\n",
    "# --- We ran these commands below once before, it took 13 hours, and then we saved it in the songs_with_emotion.json.bz2 dataframe\n",
    "# tqdm.pandas()\n",
    "# task = 'zero-shot-classification'\n",
    "# model = 'typeform/distilbert-base-uncased-mnli' # see there: https://huggingface.co/typeform/distilbert-base-uncased-mnli\n",
    "# classifier = pipeline(task, model)\n",
    "# labels = ['joy', 'sad', 'anger', 'fear', 'neutral', 'calm'] # Emotions taken from the Russel model of emotions\n",
    "# m = len(labels)\n",
    "# songs['emotion'] = songs['clean_lyrics'].progress_map(lambda lyrics: classifier(lyrics, labels)['labels'][0:3])\n",
    "# ---------------------\n",
    "\n",
    "songs = pd.read_json('data/songs_with_emotion.json.bz2', compression='bz2')"
   ]
  },
  {
   "cell_type": "markdown",
   "metadata": {},
   "source": [
    "Study of primary emotions through genres"
   ]
  },
  {
   "cell_type": "code",
   "execution_count": 31,
   "metadata": {},
   "outputs": [
    {
     "name": "stdout",
     "output_type": "stream",
     "text": [
      "---> Creating spacy document for genre: Jazz.\n",
      "NOUNS: [('love', 268), ('day', 149), ('time', 148), ('baby', 123), ('heart', 96), ('way', 96), ('night', 93)]\n",
      "VERBS: [('know', 214), ('love', 201), ('go', 177), ('come', 161), ('get', 156), ('let', 148), ('tell', 122)]\n",
      "PRONOUNS: [('somebody', 35), ('everybody', 16), ('ya', 6), ('s', 1), ('oho', 1), ('thee', 1)]\n",
      "Number of unique nouns: 968.\n",
      "---> Creating spacy document for genre: Pop.\n",
      "NOUNS: [('love', 218), ('time', 151), ('heart', 147), ('baby', 118), ('way', 114), ('life', 93), ('night', 76)]\n",
      "VERBS: [('know', 306), ('go', 159), ('get', 154), ('come', 131), ('let', 125), ('feel', 125), ('love', 122)]\n",
      "PRONOUNS: [('everybody', 19), ('ya', 5), ('anybody', 5), ('d', 3), ('somebody', 2)]\n",
      "Number of unique nouns: 835.\n",
      "---> Creating spacy document for genre: R&b, Funk & Soul.\n",
      "NOUNS: [('love', 250), ('baby', 244), ('time', 169), ('day', 102), ('heart', 101), ('night', 101), ('way', 99)]\n",
      "VERBS: [('know', 302), ('go', 252), ('love', 209), ('get', 204), ('let', 182), ('come', 179), ('want', 129)]\n",
      "PRONOUNS: [('everybody', 46), ('somebody', 23), ('ya', 8), ('anybody', 2), ('em', 1), ('la', 1), ('u', 1)]\n",
      "Number of unique nouns: 758.\n",
      "---> Creating spacy document for genre: Rock.\n",
      "NOUNS: [('love', 220), ('time', 139), ('baby', 115), ('day', 102), ('girl', 100), ('man', 98), ('way', 95)]\n",
      "VERBS: [('know', 288), ('come', 237), ('get', 220), ('go', 190), ('love', 119), ('tell', 116), ('think', 95)]\n",
      "PRONOUNS: [('everybody', 32), ('somebody', 15), ('la', 6), ('s', 4), ('ya', 3), ('anybody', 3), ('y', 2)]\n",
      "Number of unique nouns: 918.\n",
      "---> Creating spacy document for genre: Country.\n",
      "NOUNS: [('love', 156), ('time', 147), ('man', 120), ('day', 111), ('heart', 107), ('life', 86), ('way', 85)]\n",
      "VERBS: [('know', 224), ('go', 199), ('come', 179), ('get', 141), ('tell', 117), ('love', 115), ('let', 104)]\n",
      "PRONOUNS: [('somebody', 17), ('everybody', 14), ('anybody', 2), ('s', 1), ('oka', 1), ('ya', 1)]\n",
      "Number of unique nouns: 1074.\n"
     ]
    }
   ],
   "source": [
    "jazz = Genre('Jazz')\n",
    "pop = Genre('Pop')\n",
    "rb_funk_soul = Genre('R&b, Funk & Soul')\n",
    "rock = Genre('Rock')\n",
    "country = Genre('Country')"
   ]
  },
  {
   "cell_type": "markdown",
   "metadata": {},
   "source": [
    "**CONCLUSION (Q3)**: From this massive print above we can see the following patterns when it comes to the liricity of the genres:\n",
    "- R&b, Funk and Soul is the music genre with the least number of unique words with 758 words, while Country is the one with most unique words used with 1074.\n",
    "- The word 'love' is the most present word through all styles!\n",
    "- The word 'baby' is in the top 10 of most used nouns in all styles byt in Country.\n",
    "- The pronouns look odd ('la', 'y', 'oka', 's'), so the model doesn't seem to have worked there.\n",
    "- The verbs through all genres all pretty much all similar and don't convey much interesting information."
   ]
  },
  {
   "cell_type": "markdown",
   "metadata": {},
   "source": [
    "**CONCLUSION (Q4)**: See below the emotions of all genres. Getting the maximum value per column we see:\n",
    "- Jazz has the maximum emotions of calmness and joy;\n",
    "- Country has the maximum emotion of sadness and neutrality;\n",
    "- Rock has the maximum emotions of fear and anger."
   ]
  },
  {
   "cell_type": "code",
   "execution_count": 32,
   "metadata": {},
   "outputs": [
    {
     "data": {
      "text/html": [
       "<div>\n",
       "<style scoped>\n",
       "    .dataframe tbody tr th:only-of-type {\n",
       "        vertical-align: middle;\n",
       "    }\n",
       "\n",
       "    .dataframe tbody tr th {\n",
       "        vertical-align: top;\n",
       "    }\n",
       "\n",
       "    .dataframe thead th {\n",
       "        text-align: right;\n",
       "    }\n",
       "</style>\n",
       "<table border=\"1\" class=\"dataframe\">\n",
       "  <thead>\n",
       "    <tr style=\"text-align: right;\">\n",
       "      <th></th>\n",
       "      <th>neutral</th>\n",
       "      <th>calm</th>\n",
       "      <th>sad</th>\n",
       "      <th>joy</th>\n",
       "      <th>fear</th>\n",
       "      <th>anger</th>\n",
       "      <th>genre</th>\n",
       "    </tr>\n",
       "  </thead>\n",
       "  <tbody>\n",
       "    <tr>\n",
       "      <th>0</th>\n",
       "      <td>0.249482</td>\n",
       "      <td>0.279296</td>\n",
       "      <td>0.156936</td>\n",
       "      <td>0.142650</td>\n",
       "      <td>0.097101</td>\n",
       "      <td>0.074534</td>\n",
       "      <td>Jazz</td>\n",
       "    </tr>\n",
       "    <tr>\n",
       "      <th>1</th>\n",
       "      <td>0.246560</td>\n",
       "      <td>0.255274</td>\n",
       "      <td>0.166988</td>\n",
       "      <td>0.110209</td>\n",
       "      <td>0.123372</td>\n",
       "      <td>0.097597</td>\n",
       "      <td>Rock</td>\n",
       "    </tr>\n",
       "    <tr>\n",
       "      <th>2</th>\n",
       "      <td>0.245109</td>\n",
       "      <td>0.265607</td>\n",
       "      <td>0.152648</td>\n",
       "      <td>0.128847</td>\n",
       "      <td>0.121308</td>\n",
       "      <td>0.086480</td>\n",
       "      <td>Pop</td>\n",
       "    </tr>\n",
       "    <tr>\n",
       "      <th>3</th>\n",
       "      <td>0.240121</td>\n",
       "      <td>0.259327</td>\n",
       "      <td>0.156402</td>\n",
       "      <td>0.132781</td>\n",
       "      <td>0.118433</td>\n",
       "      <td>0.092936</td>\n",
       "      <td>R&amp;b, Funk &amp; Soul</td>\n",
       "    </tr>\n",
       "    <tr>\n",
       "      <th>4</th>\n",
       "      <td>0.258352</td>\n",
       "      <td>0.269833</td>\n",
       "      <td>0.169822</td>\n",
       "      <td>0.120120</td>\n",
       "      <td>0.096873</td>\n",
       "      <td>0.085000</td>\n",
       "      <td>Country</td>\n",
       "    </tr>\n",
       "  </tbody>\n",
       "</table>\n",
       "</div>"
      ],
      "text/plain": [
       "    neutral      calm       sad       joy      fear     anger  \\\n",
       "0  0.249482  0.279296  0.156936  0.142650  0.097101  0.074534   \n",
       "1  0.246560  0.255274  0.166988  0.110209  0.123372  0.097597   \n",
       "2  0.245109  0.265607  0.152648  0.128847  0.121308  0.086480   \n",
       "3  0.240121  0.259327  0.156402  0.132781  0.118433  0.092936   \n",
       "4  0.258352  0.269833  0.169822  0.120120  0.096873  0.085000   \n",
       "\n",
       "              genre  \n",
       "0              Jazz  \n",
       "1              Rock  \n",
       "2               Pop  \n",
       "3  R&b, Funk & Soul  \n",
       "4           Country  "
      ]
     },
     "execution_count": 32,
     "metadata": {},
     "output_type": "execute_result"
    }
   ],
   "source": [
    "emotions_df = pd.DataFrame(jazz.primary_emotions, index=[0])\n",
    "emotions_df = emotions_df.append(rock.primary_emotions, ignore_index=True)\n",
    "emotions_df = emotions_df.append(pop.primary_emotions, ignore_index=True)\n",
    "emotions_df = emotions_df.append(rb_funk_soul.primary_emotions, ignore_index=True)\n",
    "emotions_df = emotions_df.append(country.primary_emotions, ignore_index=True)\n",
    "emotions_df"
   ]
  }
 ],
 "metadata": {
  "kernelspec": {
   "display_name": "Python 3.8.8 ('base')",
   "language": "python",
   "name": "python3"
  },
  "language_info": {
   "codemirror_mode": {
    "name": "ipython",
    "version": 3
   },
   "file_extension": ".py",
   "mimetype": "text/x-python",
   "name": "python",
   "nbconvert_exporter": "python",
   "pygments_lexer": "ipython3",
   "version": "3.8.8"
  },
  "orig_nbformat": 4,
  "vscode": {
   "interpreter": {
    "hash": "d674aba619e9128d5d95f68874c090de0e48b8e67c1ba838c5d294b8a6cf0663"
   }
  }
 },
 "nbformat": 4,
 "nbformat_minor": 2
}
