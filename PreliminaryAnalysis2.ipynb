{
 "cells": [
  {
   "cell_type": "code",
   "execution_count": 1,
   "metadata": {
    "collapsed": true
   },
   "outputs": [
    {
     "data": {
      "text/plain": "<Figure size 1152x288 with 1 Axes>",
      "image/png": "[encoded data removed]"
     },
     "metadata": {
      "needs_background": "light"
     },
     "output_type": "display_data"
    }
   ],
   "source": [
    "import pandas as pd\n",
    "from collections import Counter\n",
    "import re\n",
    "import collections\n",
    "import matplotlib.pyplot as plt\n",
    "\n",
    "all_genres_en = pd.read_csv('data/all_genres_en.csv').drop(columns='Unnamed: 0')\n",
    "all_genres_en\n",
    "\n",
    "def convert_string_to_ngrams_list (chords_string, ngram = 4):\n",
    "    \"\"\"\n",
    "    converts the list of chords to list of ngrams, each ngram is one list\n",
    "    \"\"\"\n",
    "    in_bracket = False\n",
    "    str = ''\n",
    "    chords = []\n",
    "    for i in chords_string:\n",
    "        if in_bracket and i !='\\'' :\n",
    "            str += i\n",
    "        if i == '\\'' :\n",
    "            in_bracket = not in_bracket\n",
    "            if str != '' :\n",
    "                chords.append(str)\n",
    "\n",
    "            str = ''\n",
    "\n",
    "    temp=zip(*[chords[i:] for i in range(0,ngram)])\n",
    "    ans=[' '.join(ngram) for ngram in temp]\n",
    "\n",
    "    return ans\n",
    "\n",
    "all_genres_en['chords'] = all_genres_en['chords'].apply(convert_string_to_ngrams_list)\n",
    "all_genres_en\n",
    "\n",
    "#counting ngrams in ngrs_counter dictionary\n",
    "\n",
    "\n",
    "ngrs_counter =collections.defaultdict(int)\n",
    "\n",
    "for index, row in all_genres_en.iterrows():\n",
    "    for ngram in row['chords']:\n",
    "        #print(ngram)\n",
    "        if ngram in ngrs_counter :\n",
    "            ngrs_counter[ngram] +=1\n",
    "        else:\n",
    "            ngrs_counter[ngram] =1\n",
    "\n",
    "\n",
    "#print(ngrs_counter)\n",
    "\n",
    "\n",
    "#plotting a histogram\n",
    "\n",
    "df_ngrs_counter=pd.DataFrame(sorted(ngrs_counter.items(),key=lambda x:x[1],reverse=True))\n",
    "pd1bi=df_ngrs_counter[0][:10]\n",
    "pd2bi=df_ngrs_counter[1][:10]\n",
    "\n",
    "plt.figure(1,figsize=(16,4))\n",
    "plt.bar(pd1bi,pd2bi, color ='green',width = 0.4)\n",
    "plt.xlabel(\"3-gram chords\")\n",
    "plt.ylabel(\"Count\")\n",
    "plt.title(\"Top 10 3-gram chords in all genres\")\n",
    "plt.savefig(\"positive-bigram.png\")\n",
    "plt.show()\n"
   ]
  },
  {
   "cell_type": "code",
   "execution_count": null,
   "outputs": [],
   "source": [],
   "metadata": {
    "collapsed": false,
    "pycharm": {
     "name": "#%%\n"
    }
   }
  }
 ],
 "metadata": {
  "kernelspec": {
   "display_name": "Python 3",
   "language": "python",
   "name": "python3"
  },
  "language_info": {
   "codemirror_mode": {
    "name": "ipython",
    "version": 2
   },
   "file_extension": ".py",
   "mimetype": "text/x-python",
   "name": "python",
   "nbconvert_exporter": "python",
   "pygments_lexer": "ipython2",
   "version": "2.7.6"
  }
 },
 "nbformat": 4,
 "nbformat_minor": 0
}