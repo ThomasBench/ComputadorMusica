{
 "cells": [
  {
   "cell_type": "code",
   "execution_count": 8,
   "metadata": {
    "collapsed": false,
    "pycharm": {
     "name": "#%%\n"
    }
   },
   "outputs": [],
   "source": [
    "import pandas as pd\n",
    "from collections import Counter\n",
    "import re\n",
    "import collections\n",
    "import matplotlib.pyplot as plt\n",
    "\n"
   ]
  },
  {
   "cell_type": "code",
   "execution_count": 9,
   "metadata": {
    "collapsed": false,
    "pycharm": {
     "name": "#%%\n"
    }
   },
   "outputs": [
    {
     "data": {
      "text/html": [
       "<div>\n",
       "<style scoped>\n",
       "    .dataframe tbody tr th:only-of-type {\n",
       "        vertical-align: middle;\n",
       "    }\n",
       "\n",
       "    .dataframe tbody tr th {\n",
       "        vertical-align: top;\n",
       "    }\n",
       "\n",
       "    .dataframe thead th {\n",
       "        text-align: right;\n",
       "    }\n",
       "</style>\n",
       "<table border=\"1\" class=\"dataframe\">\n",
       "  <thead>\n",
       "    <tr style=\"text-align: right;\">\n",
       "      <th></th>\n",
       "      <th>name</th>\n",
       "      <th>author</th>\n",
       "      <th>link</th>\n",
       "      <th>lyrics</th>\n",
       "      <th>chords</th>\n",
       "      <th>genre</th>\n",
       "      <th>actual_name</th>\n",
       "      <th>language</th>\n",
       "    </tr>\n",
       "  </thead>\n",
       "  <tbody>\n",
       "    <tr>\n",
       "      <th>0</th>\n",
       "      <td>As Long As The Grass Shall Grow</td>\n",
       "      <td>Johnny Cash</td>\n",
       "      <td>https://tabs.ultimate-guitar.com/tab/johnny-ca...</td>\n",
       "      <td>As long,  As the moon shall rise,     As ...</td>\n",
       "      <td>['A', 'E', 'A', 'A', 'E', 'A', 'D', 'D', 'A', ...</td>\n",
       "      <td>Country</td>\n",
       "      <td>As Long As The Grass Shall Grow</td>\n",
       "      <td>en</td>\n",
       "    </tr>\n",
       "    <tr>\n",
       "      <th>1</th>\n",
       "      <td>Delias Gone (ver 4)</td>\n",
       "      <td>Johnny Cash</td>\n",
       "      <td>https://tabs.ultimate-guitar.com/tab/johnny-ca...</td>\n",
       "      <td>Delia, oh, Delia Delia all my life\\r\\nIf I had...</td>\n",
       "      <td>['A', 'D', 'A', 'A7', 'D', 'B7', 'E', 'A', 'D'...</td>\n",
       "      <td>Country</td>\n",
       "      <td>Delias Gone</td>\n",
       "      <td>en</td>\n",
       "    </tr>\n",
       "    <tr>\n",
       "      <th>2</th>\n",
       "      <td>Mean Eyed Cat</td>\n",
       "      <td>Johnny Cash</td>\n",
       "      <td>https://tabs.ultimate-guitar.com/tab/johnny-ca...</td>\n",
       "      <td>I gave my woman half my money at the general s...</td>\n",
       "      <td>['E', 'B7', 'E', 'A7', 'B7', 'E', 'E', 'B7', '...</td>\n",
       "      <td>Country</td>\n",
       "      <td>Mean Eyed Cat</td>\n",
       "      <td>en</td>\n",
       "    </tr>\n",
       "    <tr>\n",
       "      <th>3</th>\n",
       "      <td>I Couldnt Keep From Crying</td>\n",
       "      <td>Johnny Cash</td>\n",
       "      <td>https://tabs.ultimate-guitar.com/tab/johnny-ca...</td>\n",
       "      <td>I SAW YOU WALKING BY HIS SIDE,\\r\\nHEARD YOU W...</td>\n",
       "      <td>['A', 'A7', 'D', 'A', 'E7', 'A', 'A7', 'D', 'A...</td>\n",
       "      <td>Country</td>\n",
       "      <td>I Couldnt Keep From Crying</td>\n",
       "      <td>en</td>\n",
       "    </tr>\n",
       "    <tr>\n",
       "      <th>4</th>\n",
       "      <td>It Aint Me Babe (ver 3)</td>\n",
       "      <td>Johnny Cash</td>\n",
       "      <td>https://tabs.ultimate-guitar.com/tab/johnny-ca...</td>\n",
       "      <td>Go 'way from my window leave at your own chose...</td>\n",
       "      <td>['A', 'Bm', 'A', 'E', 'A', 'A', 'Bm', 'A', 'E'...</td>\n",
       "      <td>Country</td>\n",
       "      <td>It Aint Me Babe</td>\n",
       "      <td>en</td>\n",
       "    </tr>\n",
       "    <tr>\n",
       "      <th>...</th>\n",
       "      <td>...</td>\n",
       "      <td>...</td>\n",
       "      <td>...</td>\n",
       "      <td>...</td>\n",
       "      <td>...</td>\n",
       "      <td>...</td>\n",
       "      <td>...</td>\n",
       "      <td>...</td>\n",
       "    </tr>\n",
       "    <tr>\n",
       "      <th>23570</th>\n",
       "      <td>5150</td>\n",
       "      <td>Machine Gun Kelly</td>\n",
       "      <td>https://tabs.ultimate-guitar.com/tab/machine-g...</td>\n",
       "      <td>Bruises don't heal overnight\\r\\nI'm a few sips...</td>\n",
       "      <td>['C', 'G', 'D', 'Em', 'C', 'G', 'D', 'Em', 'C'...</td>\n",
       "      <td>Rock</td>\n",
       "      <td>5150</td>\n",
       "      <td>en</td>\n",
       "    </tr>\n",
       "    <tr>\n",
       "      <th>23571</th>\n",
       "      <td>Fake Love Dont Last</td>\n",
       "      <td>Machine Gun Kelly</td>\n",
       "      <td>https://tabs.ultimate-guitar.com/tab/machine-g...</td>\n",
       "      <td>I watched a movie scene, got déjà vu\\r\\n'Cause...</td>\n",
       "      <td>['Em', 'G', 'B', 'C', 'Em', 'G', 'B', 'C', 'Em...</td>\n",
       "      <td>Rock</td>\n",
       "      <td>Fake Love Dont Last</td>\n",
       "      <td>en</td>\n",
       "    </tr>\n",
       "    <tr>\n",
       "      <th>23572</th>\n",
       "      <td>Sid And Nancy</td>\n",
       "      <td>Machine Gun Kelly</td>\n",
       "      <td>https://tabs.ultimate-guitar.com/tab/machine-g...</td>\n",
       "      <td>I knew a girl who'd wear my t-shirts when she ...</td>\n",
       "      <td>['D', 'F#m', 'E', 'D', 'F#m', 'E', 'D', 'F#m',...</td>\n",
       "      <td>Rock</td>\n",
       "      <td>Sid And Nancy</td>\n",
       "      <td>en</td>\n",
       "    </tr>\n",
       "    <tr>\n",
       "      <th>23573</th>\n",
       "      <td>Forever</td>\n",
       "      <td>Stereophonics</td>\n",
       "      <td>https://tabs.ultimate-guitar.com/tab/stereopho...</td>\n",
       "      <td>Sun beats down on my mind on a friday morning...</td>\n",
       "      <td>['G', 'C', 'G', 'C', 'G', 'C', 'G', 'C', 'D', ...</td>\n",
       "      <td>Rock</td>\n",
       "      <td>Forever</td>\n",
       "      <td>en</td>\n",
       "    </tr>\n",
       "    <tr>\n",
       "      <th>23574</th>\n",
       "      <td>Goodnight Chicago</td>\n",
       "      <td>Rainbow Kitten Surprise</td>\n",
       "      <td>https://tabs.ultimate-guitar.com/tab/rainbow-k...</td>\n",
       "      <td>Twenty years to see New York reflected on subw...</td>\n",
       "      <td>['C', 'C', 'Am', 'F', 'C', 'C', 'C', 'Am', 'F'...</td>\n",
       "      <td>Rock</td>\n",
       "      <td>Goodnight Chicago</td>\n",
       "      <td>en</td>\n",
       "    </tr>\n",
       "  </tbody>\n",
       "</table>\n",
       "<p>23575 rows × 8 columns</p>\n",
       "</div>"
      ],
      "text/plain": [
       "                                  name                   author  \\\n",
       "0      As Long As The Grass Shall Grow              Johnny Cash   \n",
       "1                  Delias Gone (ver 4)              Johnny Cash   \n",
       "2                        Mean Eyed Cat              Johnny Cash   \n",
       "3           I Couldnt Keep From Crying              Johnny Cash   \n",
       "4              It Aint Me Babe (ver 3)              Johnny Cash   \n",
       "...                                ...                      ...   \n",
       "23570                             5150        Machine Gun Kelly   \n",
       "23571              Fake Love Dont Last        Machine Gun Kelly   \n",
       "23572                    Sid And Nancy        Machine Gun Kelly   \n",
       "23573                          Forever            Stereophonics   \n",
       "23574                Goodnight Chicago  Rainbow Kitten Surprise   \n",
       "\n",
       "                                                    link  \\\n",
       "0      https://tabs.ultimate-guitar.com/tab/johnny-ca...   \n",
       "1      https://tabs.ultimate-guitar.com/tab/johnny-ca...   \n",
       "2      https://tabs.ultimate-guitar.com/tab/johnny-ca...   \n",
       "3      https://tabs.ultimate-guitar.com/tab/johnny-ca...   \n",
       "4      https://tabs.ultimate-guitar.com/tab/johnny-ca...   \n",
       "...                                                  ...   \n",
       "23570  https://tabs.ultimate-guitar.com/tab/machine-g...   \n",
       "23571  https://tabs.ultimate-guitar.com/tab/machine-g...   \n",
       "23572  https://tabs.ultimate-guitar.com/tab/machine-g...   \n",
       "23573  https://tabs.ultimate-guitar.com/tab/stereopho...   \n",
       "23574  https://tabs.ultimate-guitar.com/tab/rainbow-k...   \n",
       "\n",
       "                                                  lyrics  \\\n",
       "0           As long,  As the moon shall rise,     As ...   \n",
       "1      Delia, oh, Delia Delia all my life\\r\\nIf I had...   \n",
       "2      I gave my woman half my money at the general s...   \n",
       "3       I SAW YOU WALKING BY HIS SIDE,\\r\\nHEARD YOU W...   \n",
       "4      Go 'way from my window leave at your own chose...   \n",
       "...                                                  ...   \n",
       "23570  Bruises don't heal overnight\\r\\nI'm a few sips...   \n",
       "23571  I watched a movie scene, got déjà vu\\r\\n'Cause...   \n",
       "23572  I knew a girl who'd wear my t-shirts when she ...   \n",
       "23573   Sun beats down on my mind on a friday morning...   \n",
       "23574  Twenty years to see New York reflected on subw...   \n",
       "\n",
       "                                                  chords    genre  \\\n",
       "0      ['A', 'E', 'A', 'A', 'E', 'A', 'D', 'D', 'A', ...  Country   \n",
       "1      ['A', 'D', 'A', 'A7', 'D', 'B7', 'E', 'A', 'D'...  Country   \n",
       "2      ['E', 'B7', 'E', 'A7', 'B7', 'E', 'E', 'B7', '...  Country   \n",
       "3      ['A', 'A7', 'D', 'A', 'E7', 'A', 'A7', 'D', 'A...  Country   \n",
       "4      ['A', 'Bm', 'A', 'E', 'A', 'A', 'Bm', 'A', 'E'...  Country   \n",
       "...                                                  ...      ...   \n",
       "23570  ['C', 'G', 'D', 'Em', 'C', 'G', 'D', 'Em', 'C'...     Rock   \n",
       "23571  ['Em', 'G', 'B', 'C', 'Em', 'G', 'B', 'C', 'Em...     Rock   \n",
       "23572  ['D', 'F#m', 'E', 'D', 'F#m', 'E', 'D', 'F#m',...     Rock   \n",
       "23573  ['G', 'C', 'G', 'C', 'G', 'C', 'G', 'C', 'D', ...     Rock   \n",
       "23574  ['C', 'C', 'Am', 'F', 'C', 'C', 'C', 'Am', 'F'...     Rock   \n",
       "\n",
       "                           actual_name language  \n",
       "0      As Long As The Grass Shall Grow       en  \n",
       "1                          Delias Gone       en  \n",
       "2                        Mean Eyed Cat       en  \n",
       "3           I Couldnt Keep From Crying       en  \n",
       "4                      It Aint Me Babe       en  \n",
       "...                                ...      ...  \n",
       "23570                             5150       en  \n",
       "23571              Fake Love Dont Last       en  \n",
       "23572                    Sid And Nancy       en  \n",
       "23573                          Forever       en  \n",
       "23574                Goodnight Chicago       en  \n",
       "\n",
       "[23575 rows x 8 columns]"
      ]
     },
     "execution_count": 9,
     "metadata": {},
     "output_type": "execute_result"
    }
   ],
   "source": [
    "all_genres_en = pd.read_csv('data/all_genres_en.csv').drop(columns='Unnamed: 0')\n",
    "all_genres_en"
   ]
  },
  {
   "cell_type": "markdown",
   "metadata": {},
   "source": []
  },
  {
   "cell_type": "code",
   "execution_count": 30,
   "metadata": {
    "collapsed": false,
    "pycharm": {
     "name": "#%%\n"
    }
   },
   "outputs": [],
   "source": [
    "import ast\n",
    "def convert_string_to_ngrams_list (chords_string, ngram = 4):\n",
    "    \"\"\"\n",
    "    converts the list of chords to list of ngrams, each ngram is one list\n",
    "    \"\"\"\n",
    "    chords = ast.literal_eval(chords_string)\n",
    "\n",
    "    temp=zip(*[chords[i:] for i in range(0,ngram)])\n",
    "    ans=[' '.join(ngram) for ngram in temp]\n",
    "\n",
    "    return ans\n",
    "import numpy as np "
   ]
  },
  {
   "cell_type": "code",
   "execution_count": null,
   "metadata": {
    "collapsed": false,
    "pycharm": {
     "name": "#%%\n"
    }
   },
   "outputs": [],
   "source": [
    "all_genres_en['ngrams'] = all_genres_en['chords'].apply(lambda x: convert_string_to_ngrams_list(x,4))\n",
    "all_genres_en['ngrams'] = all_genres_en['ngrams'].apply(lambda x:  x if len(x) > 0 else np.NaN)\n",
    "all_genres_en = all_genres_en.dropna(subset=[\"ngrams\"])\n",
    "all_genres_en[\"best_ngram\"] =  all_genres_en['ngrams'].apply( lambda x:  list(Counter(x).most_common(1))[0][0])\n",
    "counter = Counter(all_genres_en[\"best_ngram\"])\n",
    "most_common = counter.most_common(1)[0][1]\n",
    "{k:(1-i/most_common) for k,i in counter.items()}\n"
   ]
  },
  {
   "cell_type": "code",
   "execution_count": 14,
   "metadata": {
    "collapsed": false,
    "pycharm": {
     "name": "#%%\n"
    }
   },
   "outputs": [],
   "source": [
    "#counting ngrams in ngrs_counter dictionary\n",
    "\n",
    "\n",
    "ngrs_counter =collections.defaultdict(int)\n",
    "\n",
    "for index, row in all_genres_en.iterrows():\n",
    "    for ngram in row['chords']:\n",
    "        #print(ngram)\n",
    "        if ngram in ngrs_counter :\n",
    "            ngrs_counter[ngram] +=1\n",
    "        else:\n",
    "            ngrs_counter[ngram] =1\n",
    "\n",
    "\n",
    "#print(ngrs_counter)\n"
   ]
  },
  {
   "cell_type": "code",
   "execution_count": 17,
   "metadata": {
    "collapsed": false,
    "pycharm": {
     "name": "#%%\n"
    }
   },
   "outputs": [
    {
     "data": {
      "image/png": "[encoded data removed]",
      "text/plain": [
       "<Figure size 1152x288 with 1 Axes>"
      ]
     },
     "metadata": {
      "needs_background": "light"
     },
     "output_type": "display_data"
    }
   ],
   "source": [
    "#plotting a histogram\n",
    "\n",
    "df_ngrs_counter=pd.DataFrame(sorted(ngrs_counter.items(),key=lambda x:x[1],reverse=True))\n",
    "pd1bi=df_ngrs_counter[0][:10]\n",
    "pd2bi=df_ngrs_counter[1][:10]\n",
    "\n",
    "plt.figure(1,figsize=(16,4))\n",
    "plt.bar(pd1bi,pd2bi, color ='green',width = 0.4)\n",
    "plt.xlabel(\"3-gram chords\")\n",
    "plt.ylabel(\"Count\")\n",
    "plt.title(\"Top 10 3-gram chords in all genres\")\n",
    "plt.savefig(\"positive-bigram.png\")\n",
    "plt.show()\n"
   ]
  },
  {
   "cell_type": "code",
   "execution_count": null,
   "metadata": {
    "collapsed": false,
    "pycharm": {
     "name": "#%%\n"
    }
   },
   "outputs": [],
   "source": []
  }
 ],
 "metadata": {
  "kernelspec": {
   "display_name": "Python 3.9.7 ('base')",
   "language": "python",
   "name": "python3"
  },
  "language_info": {
   "codemirror_mode": {
    "name": "ipython",
    "version": 3
   },
   "file_extension": ".py",
   "mimetype": "text/x-python",
   "name": "python",
   "nbconvert_exporter": "python",
   "pygments_lexer": "ipython3",
   "version": "3.9.7"
  },
  "vscode": {
   "interpreter": {
    "hash": "1660e5ba8f293e3d7efdb178ad9b94857ba70cfb3c6c6487974676b5acd3e1f2"
   }
  }
 },
 "nbformat": 4,
 "nbformat_minor": 0
}
