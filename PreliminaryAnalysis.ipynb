{
 "cells": [
  {
   "cell_type": "markdown",
   "source": [
    "# Dataset Analysis\n",
    "In this notebook, we perform multiple data analysis, which will help us understand more the dataset that we have built.\n"
   ],
   "metadata": {
    "collapsed": false
   }
  },
  {
   "cell_type": "code",
   "execution_count": 30,
   "metadata": {
    "collapsed": true
   },
   "outputs": [],
   "source": [
    "import pandas as pd\n",
    "import collections\n",
    "import matplotlib.pyplot as plt"
   ]
  },
  {
   "cell_type": "markdown",
   "source": [
    "In the following code, we will read the dataset we have:"
   ],
   "metadata": {
    "collapsed": false
   }
  },
  {
   "cell_type": "code",
   "execution_count": 31,
   "outputs": [
    {
     "data": {
      "text/plain": "                                  name                   author  \\\n0      As Long As The Grass Shall Grow              Johnny Cash   \n1                  Delias Gone (ver 4)              Johnny Cash   \n2                        Mean Eyed Cat              Johnny Cash   \n3           I Couldnt Keep From Crying              Johnny Cash   \n4              It Aint Me Babe (ver 3)              Johnny Cash   \n...                                ...                      ...   \n23570                             5150        Machine Gun Kelly   \n23571              Fake Love Dont Last        Machine Gun Kelly   \n23572                    Sid And Nancy        Machine Gun Kelly   \n23573                          Forever            Stereophonics   \n23574                Goodnight Chicago  Rainbow Kitten Surprise   \n\n                                                    link  \\\n0      https://tabs.ultimate-guitar.com/tab/johnny-ca...   \n1      https://tabs.ultimate-guitar.com/tab/johnny-ca...   \n2      https://tabs.ultimate-guitar.com/tab/johnny-ca...   \n3      https://tabs.ultimate-guitar.com/tab/johnny-ca...   \n4      https://tabs.ultimate-guitar.com/tab/johnny-ca...   \n...                                                  ...   \n23570  https://tabs.ultimate-guitar.com/tab/machine-g...   \n23571  https://tabs.ultimate-guitar.com/tab/machine-g...   \n23572  https://tabs.ultimate-guitar.com/tab/machine-g...   \n23573  https://tabs.ultimate-guitar.com/tab/stereopho...   \n23574  https://tabs.ultimate-guitar.com/tab/rainbow-k...   \n\n                                                  lyrics  \\\n0           As long,  As the moon shall rise,     As ...   \n1      Delia, oh, Delia Delia all my life\\r\\nIf I had...   \n2      I gave my woman half my money at the general s...   \n3       I SAW YOU WALKING BY HIS SIDE,\\r\\nHEARD YOU W...   \n4      Go 'way from my window leave at your own chose...   \n...                                                  ...   \n23570  Bruises don't heal overnight\\r\\nI'm a few sips...   \n23571  I watched a movie scene, got déjà vu\\r\\n'Cause...   \n23572  I knew a girl who'd wear my t-shirts when she ...   \n23573   Sun beats down on my mind on a friday morning...   \n23574  Twenty years to see New York reflected on subw...   \n\n                                                  chords    genre  \\\n0      ['A', 'E', 'A', 'A', 'E', 'A', 'D', 'D', 'A', ...  Country   \n1      ['A', 'D', 'A', 'A7', 'D', 'B7', 'E', 'A', 'D'...  Country   \n2      ['E', 'B7', 'E', 'A7', 'B7', 'E', 'E', 'B7', '...  Country   \n3      ['A', 'A7', 'D', 'A', 'E7', 'A', 'A7', 'D', 'A...  Country   \n4      ['A', 'Bm', 'A', 'E', 'A', 'A', 'Bm', 'A', 'E'...  Country   \n...                                                  ...      ...   \n23570  ['C', 'G', 'D', 'Em', 'C', 'G', 'D', 'Em', 'C'...     Rock   \n23571  ['Em', 'G', 'B', 'C', 'Em', 'G', 'B', 'C', 'Em...     Rock   \n23572  ['D', 'F#m', 'E', 'D', 'F#m', 'E', 'D', 'F#m',...     Rock   \n23573  ['G', 'C', 'G', 'C', 'G', 'C', 'G', 'C', 'D', ...     Rock   \n23574  ['C', 'C', 'Am', 'F', 'C', 'C', 'C', 'Am', 'F'...     Rock   \n\n                           actual_name language  \n0      As Long As The Grass Shall Grow       en  \n1                          Delias Gone       en  \n2                        Mean Eyed Cat       en  \n3           I Couldnt Keep From Crying       en  \n4                      It Aint Me Babe       en  \n...                                ...      ...  \n23570                             5150       en  \n23571              Fake Love Dont Last       en  \n23572                    Sid And Nancy       en  \n23573                          Forever       en  \n23574                Goodnight Chicago       en  \n\n[23575 rows x 8 columns]",
      "text/html": "<div>\n<style scoped>\n    .dataframe tbody tr th:only-of-type {\n        vertical-align: middle;\n    }\n\n    .dataframe tbody tr th {\n        vertical-align: top;\n    }\n\n    .dataframe thead th {\n        text-align: right;\n    }\n</style>\n<table border=\"1\" class=\"dataframe\">\n  <thead>\n    <tr style=\"text-align: right;\">\n      <th></th>\n      <th>name</th>\n      <th>author</th>\n      <th>link</th>\n      <th>lyrics</th>\n      <th>chords</th>\n      <th>genre</th>\n      <th>actual_name</th>\n      <th>language</th>\n    </tr>\n  </thead>\n  <tbody>\n    <tr>\n      <th>0</th>\n      <td>As Long As The Grass Shall Grow</td>\n      <td>Johnny Cash</td>\n      <td>https://tabs.ultimate-guitar.com/tab/johnny-ca...</td>\n      <td>As long,  As the moon shall rise,     As ...</td>\n      <td>['A', 'E', 'A', 'A', 'E', 'A', 'D', 'D', 'A', ...</td>\n      <td>Country</td>\n      <td>As Long As The Grass Shall Grow</td>\n      <td>en</td>\n    </tr>\n    <tr>\n      <th>1</th>\n      <td>Delias Gone (ver 4)</td>\n      <td>Johnny Cash</td>\n      <td>https://tabs.ultimate-guitar.com/tab/johnny-ca...</td>\n      <td>Delia, oh, Delia Delia all my life\\r\\nIf I had...</td>\n      <td>['A', 'D', 'A', 'A7', 'D', 'B7', 'E', 'A', 'D'...</td>\n      <td>Country</td>\n      <td>Delias Gone</td>\n      <td>en</td>\n    </tr>\n    <tr>\n      <th>2</th>\n      <td>Mean Eyed Cat</td>\n      <td>Johnny Cash</td>\n      <td>https://tabs.ultimate-guitar.com/tab/johnny-ca...</td>\n      <td>I gave my woman half my money at the general s...</td>\n      <td>['E', 'B7', 'E', 'A7', 'B7', 'E', 'E', 'B7', '...</td>\n      <td>Country</td>\n      <td>Mean Eyed Cat</td>\n      <td>en</td>\n    </tr>\n    <tr>\n      <th>3</th>\n      <td>I Couldnt Keep From Crying</td>\n      <td>Johnny Cash</td>\n      <td>https://tabs.ultimate-guitar.com/tab/johnny-ca...</td>\n      <td>I SAW YOU WALKING BY HIS SIDE,\\r\\nHEARD YOU W...</td>\n      <td>['A', 'A7', 'D', 'A', 'E7', 'A', 'A7', 'D', 'A...</td>\n      <td>Country</td>\n      <td>I Couldnt Keep From Crying</td>\n      <td>en</td>\n    </tr>\n    <tr>\n      <th>4</th>\n      <td>It Aint Me Babe (ver 3)</td>\n      <td>Johnny Cash</td>\n      <td>https://tabs.ultimate-guitar.com/tab/johnny-ca...</td>\n      <td>Go 'way from my window leave at your own chose...</td>\n      <td>['A', 'Bm', 'A', 'E', 'A', 'A', 'Bm', 'A', 'E'...</td>\n      <td>Country</td>\n      <td>It Aint Me Babe</td>\n      <td>en</td>\n    </tr>\n    <tr>\n      <th>...</th>\n      <td>...</td>\n      <td>...</td>\n      <td>...</td>\n      <td>...</td>\n      <td>...</td>\n      <td>...</td>\n      <td>...</td>\n      <td>...</td>\n    </tr>\n    <tr>\n      <th>23570</th>\n      <td>5150</td>\n      <td>Machine Gun Kelly</td>\n      <td>https://tabs.ultimate-guitar.com/tab/machine-g...</td>\n      <td>Bruises don't heal overnight\\r\\nI'm a few sips...</td>\n      <td>['C', 'G', 'D', 'Em', 'C', 'G', 'D', 'Em', 'C'...</td>\n      <td>Rock</td>\n      <td>5150</td>\n      <td>en</td>\n    </tr>\n    <tr>\n      <th>23571</th>\n      <td>Fake Love Dont Last</td>\n      <td>Machine Gun Kelly</td>\n      <td>https://tabs.ultimate-guitar.com/tab/machine-g...</td>\n      <td>I watched a movie scene, got déjà vu\\r\\n'Cause...</td>\n      <td>['Em', 'G', 'B', 'C', 'Em', 'G', 'B', 'C', 'Em...</td>\n      <td>Rock</td>\n      <td>Fake Love Dont Last</td>\n      <td>en</td>\n    </tr>\n    <tr>\n      <th>23572</th>\n      <td>Sid And Nancy</td>\n      <td>Machine Gun Kelly</td>\n      <td>https://tabs.ultimate-guitar.com/tab/machine-g...</td>\n      <td>I knew a girl who'd wear my t-shirts when she ...</td>\n      <td>['D', 'F#m', 'E', 'D', 'F#m', 'E', 'D', 'F#m',...</td>\n      <td>Rock</td>\n      <td>Sid And Nancy</td>\n      <td>en</td>\n    </tr>\n    <tr>\n      <th>23573</th>\n      <td>Forever</td>\n      <td>Stereophonics</td>\n      <td>https://tabs.ultimate-guitar.com/tab/stereopho...</td>\n      <td>Sun beats down on my mind on a friday morning...</td>\n      <td>['G', 'C', 'G', 'C', 'G', 'C', 'G', 'C', 'D', ...</td>\n      <td>Rock</td>\n      <td>Forever</td>\n      <td>en</td>\n    </tr>\n    <tr>\n      <th>23574</th>\n      <td>Goodnight Chicago</td>\n      <td>Rainbow Kitten Surprise</td>\n      <td>https://tabs.ultimate-guitar.com/tab/rainbow-k...</td>\n      <td>Twenty years to see New York reflected on subw...</td>\n      <td>['C', 'C', 'Am', 'F', 'C', 'C', 'C', 'Am', 'F'...</td>\n      <td>Rock</td>\n      <td>Goodnight Chicago</td>\n      <td>en</td>\n    </tr>\n  </tbody>\n</table>\n<p>23575 rows × 8 columns</p>\n</div>"
     },
     "execution_count": 31,
     "metadata": {},
     "output_type": "execute_result"
    }
   ],
   "source": [
    "all_genres_en = pd.read_csv('data/all_genres_en.csv').drop(columns='Unnamed: 0')\n",
    "all_genres_en"
   ],
   "metadata": {
    "collapsed": false,
    "pycharm": {
     "name": "#%%\n"
    }
   }
  },
  {
   "cell_type": "markdown",
   "source": [
    "Here the function convert_string_to_ngrams_list converts the list of chords (in the\n",
    "way they are in the above dataset column 'chords') to n-gram list."
   ],
   "metadata": {
    "collapsed": false
   }
  },
  {
   "cell_type": "code",
   "execution_count": 32,
   "outputs": [],
   "source": [
    "def convert_string_to_ngrams_list (chords_string, ngram = 4):\n",
    "    \"\"\"\n",
    "    converts the list of chords to list of ngrams, each ngram is one list\n",
    "    \"\"\"\n",
    "    in_bracket = False\n",
    "    str = ''\n",
    "    chords = []\n",
    "    for i in chords_string:\n",
    "        if in_bracket and i !='\\'' :\n",
    "            str += i\n",
    "        if i == '\\'' :\n",
    "            in_bracket = not in_bracket\n",
    "            if str != '' :\n",
    "                chords.append(str)\n",
    "\n",
    "            str = ''\n",
    "    temp=zip(*[chords[i:] for i in range(0,ngram)])\n",
    "    ans=[' '.join(ngram) for ngram in temp]\n",
    "\n",
    "    return ans"
   ],
   "metadata": {
    "collapsed": false,
    "pycharm": {
     "name": "#%%\n"
    }
   }
  },
  {
   "cell_type": "markdown",
   "source": [
    "Applying the previous function to the 'chords' column in the dataset, in order\n",
    "to have n-grams instead of list of chords."
   ],
   "metadata": {
    "collapsed": false
   }
  },
  {
   "cell_type": "code",
   "execution_count": 33,
   "outputs": [
    {
     "data": {
      "text/plain": "                                  name                   author  \\\n0      As Long As The Grass Shall Grow              Johnny Cash   \n1                  Delias Gone (ver 4)              Johnny Cash   \n2                        Mean Eyed Cat              Johnny Cash   \n3           I Couldnt Keep From Crying              Johnny Cash   \n4              It Aint Me Babe (ver 3)              Johnny Cash   \n...                                ...                      ...   \n23570                             5150        Machine Gun Kelly   \n23571              Fake Love Dont Last        Machine Gun Kelly   \n23572                    Sid And Nancy        Machine Gun Kelly   \n23573                          Forever            Stereophonics   \n23574                Goodnight Chicago  Rainbow Kitten Surprise   \n\n                                                    link  \\\n0      https://tabs.ultimate-guitar.com/tab/johnny-ca...   \n1      https://tabs.ultimate-guitar.com/tab/johnny-ca...   \n2      https://tabs.ultimate-guitar.com/tab/johnny-ca...   \n3      https://tabs.ultimate-guitar.com/tab/johnny-ca...   \n4      https://tabs.ultimate-guitar.com/tab/johnny-ca...   \n...                                                  ...   \n23570  https://tabs.ultimate-guitar.com/tab/machine-g...   \n23571  https://tabs.ultimate-guitar.com/tab/machine-g...   \n23572  https://tabs.ultimate-guitar.com/tab/machine-g...   \n23573  https://tabs.ultimate-guitar.com/tab/stereopho...   \n23574  https://tabs.ultimate-guitar.com/tab/rainbow-k...   \n\n                                                  lyrics  \\\n0           As long,  As the moon shall rise,     As ...   \n1      Delia, oh, Delia Delia all my life\\r\\nIf I had...   \n2      I gave my woman half my money at the general s...   \n3       I SAW YOU WALKING BY HIS SIDE,\\r\\nHEARD YOU W...   \n4      Go 'way from my window leave at your own chose...   \n...                                                  ...   \n23570  Bruises don't heal overnight\\r\\nI'm a few sips...   \n23571  I watched a movie scene, got déjà vu\\r\\n'Cause...   \n23572  I knew a girl who'd wear my t-shirts when she ...   \n23573   Sun beats down on my mind on a friday morning...   \n23574  Twenty years to see New York reflected on subw...   \n\n                                                  chords    genre  \\\n0      [A E A A, E A A E, A A E A, A E A D, E A D D, ...  Country   \n1      [A D A A7, D A A7 D, A A7 D B7, A7 D B7 E, D B...  Country   \n2      [E B7 E A7, B7 E A7 B7, E A7 B7 E, A7 B7 E E, ...  Country   \n3      [A A7 D A, A7 D A E7, D A E7 A, A E7 A A7, E7 ...  Country   \n4      [A Bm A E, Bm A E A, A E A A, E A A Bm, A A Bm...  Country   \n...                                                  ...      ...   \n23570  [C G D Em, G D Em C, D Em C G, Em C G D, C G D...     Rock   \n23571  [Em G B C, G B C Em, B C Em G, C Em G B, Em G ...     Rock   \n23572  [D F#m E D, F#m E D F#m, E D F#m E, D F#m E D,...     Rock   \n23573  [G C G C, C G C G, G C G C, C G C G, G C G C, ...     Rock   \n23574  [C C Am F, C Am F C, Am F C C, F C C C, C C C ...     Rock   \n\n                           actual_name language  \n0      As Long As The Grass Shall Grow       en  \n1                          Delias Gone       en  \n2                        Mean Eyed Cat       en  \n3           I Couldnt Keep From Crying       en  \n4                      It Aint Me Babe       en  \n...                                ...      ...  \n23570                             5150       en  \n23571              Fake Love Dont Last       en  \n23572                    Sid And Nancy       en  \n23573                          Forever       en  \n23574                Goodnight Chicago       en  \n\n[23575 rows x 8 columns]",
      "text/html": "<div>\n<style scoped>\n    .dataframe tbody tr th:only-of-type {\n        vertical-align: middle;\n    }\n\n    .dataframe tbody tr th {\n        vertical-align: top;\n    }\n\n    .dataframe thead th {\n        text-align: right;\n    }\n</style>\n<table border=\"1\" class=\"dataframe\">\n  <thead>\n    <tr style=\"text-align: right;\">\n      <th></th>\n      <th>name</th>\n      <th>author</th>\n      <th>link</th>\n      <th>lyrics</th>\n      <th>chords</th>\n      <th>genre</th>\n      <th>actual_name</th>\n      <th>language</th>\n    </tr>\n  </thead>\n  <tbody>\n    <tr>\n      <th>0</th>\n      <td>As Long As The Grass Shall Grow</td>\n      <td>Johnny Cash</td>\n      <td>https://tabs.ultimate-guitar.com/tab/johnny-ca...</td>\n      <td>As long,  As the moon shall rise,     As ...</td>\n      <td>[A E A A, E A A E, A A E A, A E A D, E A D D, ...</td>\n      <td>Country</td>\n      <td>As Long As The Grass Shall Grow</td>\n      <td>en</td>\n    </tr>\n    <tr>\n      <th>1</th>\n      <td>Delias Gone (ver 4)</td>\n      <td>Johnny Cash</td>\n      <td>https://tabs.ultimate-guitar.com/tab/johnny-ca...</td>\n      <td>Delia, oh, Delia Delia all my life\\r\\nIf I had...</td>\n      <td>[A D A A7, D A A7 D, A A7 D B7, A7 D B7 E, D B...</td>\n      <td>Country</td>\n      <td>Delias Gone</td>\n      <td>en</td>\n    </tr>\n    <tr>\n      <th>2</th>\n      <td>Mean Eyed Cat</td>\n      <td>Johnny Cash</td>\n      <td>https://tabs.ultimate-guitar.com/tab/johnny-ca...</td>\n      <td>I gave my woman half my money at the general s...</td>\n      <td>[E B7 E A7, B7 E A7 B7, E A7 B7 E, A7 B7 E E, ...</td>\n      <td>Country</td>\n      <td>Mean Eyed Cat</td>\n      <td>en</td>\n    </tr>\n    <tr>\n      <th>3</th>\n      <td>I Couldnt Keep From Crying</td>\n      <td>Johnny Cash</td>\n      <td>https://tabs.ultimate-guitar.com/tab/johnny-ca...</td>\n      <td>I SAW YOU WALKING BY HIS SIDE,\\r\\nHEARD YOU W...</td>\n      <td>[A A7 D A, A7 D A E7, D A E7 A, A E7 A A7, E7 ...</td>\n      <td>Country</td>\n      <td>I Couldnt Keep From Crying</td>\n      <td>en</td>\n    </tr>\n    <tr>\n      <th>4</th>\n      <td>It Aint Me Babe (ver 3)</td>\n      <td>Johnny Cash</td>\n      <td>https://tabs.ultimate-guitar.com/tab/johnny-ca...</td>\n      <td>Go 'way from my window leave at your own chose...</td>\n      <td>[A Bm A E, Bm A E A, A E A A, E A A Bm, A A Bm...</td>\n      <td>Country</td>\n      <td>It Aint Me Babe</td>\n      <td>en</td>\n    </tr>\n    <tr>\n      <th>...</th>\n      <td>...</td>\n      <td>...</td>\n      <td>...</td>\n      <td>...</td>\n      <td>...</td>\n      <td>...</td>\n      <td>...</td>\n      <td>...</td>\n    </tr>\n    <tr>\n      <th>23570</th>\n      <td>5150</td>\n      <td>Machine Gun Kelly</td>\n      <td>https://tabs.ultimate-guitar.com/tab/machine-g...</td>\n      <td>Bruises don't heal overnight\\r\\nI'm a few sips...</td>\n      <td>[C G D Em, G D Em C, D Em C G, Em C G D, C G D...</td>\n      <td>Rock</td>\n      <td>5150</td>\n      <td>en</td>\n    </tr>\n    <tr>\n      <th>23571</th>\n      <td>Fake Love Dont Last</td>\n      <td>Machine Gun Kelly</td>\n      <td>https://tabs.ultimate-guitar.com/tab/machine-g...</td>\n      <td>I watched a movie scene, got déjà vu\\r\\n'Cause...</td>\n      <td>[Em G B C, G B C Em, B C Em G, C Em G B, Em G ...</td>\n      <td>Rock</td>\n      <td>Fake Love Dont Last</td>\n      <td>en</td>\n    </tr>\n    <tr>\n      <th>23572</th>\n      <td>Sid And Nancy</td>\n      <td>Machine Gun Kelly</td>\n      <td>https://tabs.ultimate-guitar.com/tab/machine-g...</td>\n      <td>I knew a girl who'd wear my t-shirts when she ...</td>\n      <td>[D F#m E D, F#m E D F#m, E D F#m E, D F#m E D,...</td>\n      <td>Rock</td>\n      <td>Sid And Nancy</td>\n      <td>en</td>\n    </tr>\n    <tr>\n      <th>23573</th>\n      <td>Forever</td>\n      <td>Stereophonics</td>\n      <td>https://tabs.ultimate-guitar.com/tab/stereopho...</td>\n      <td>Sun beats down on my mind on a friday morning...</td>\n      <td>[G C G C, C G C G, G C G C, C G C G, G C G C, ...</td>\n      <td>Rock</td>\n      <td>Forever</td>\n      <td>en</td>\n    </tr>\n    <tr>\n      <th>23574</th>\n      <td>Goodnight Chicago</td>\n      <td>Rainbow Kitten Surprise</td>\n      <td>https://tabs.ultimate-guitar.com/tab/rainbow-k...</td>\n      <td>Twenty years to see New York reflected on subw...</td>\n      <td>[C C Am F, C Am F C, Am F C C, F C C C, C C C ...</td>\n      <td>Rock</td>\n      <td>Goodnight Chicago</td>\n      <td>en</td>\n    </tr>\n  </tbody>\n</table>\n<p>23575 rows × 8 columns</p>\n</div>"
     },
     "execution_count": 33,
     "metadata": {},
     "output_type": "execute_result"
    }
   ],
   "source": [
    "all_genres_en['chords'] = all_genres_en['chords'].apply(convert_string_to_ngrams_list)\n",
    "all_genres_en"
   ],
   "metadata": {
    "collapsed": false,
    "pycharm": {
     "name": "#%%\n"
    }
   }
  },
  {
   "cell_type": "markdown",
   "source": [
    "In the following code we build a dictionary to count how many times a specific n-gram appears\n",
    "in the whole dataset:"
   ],
   "metadata": {
    "collapsed": false,
    "pycharm": {
     "name": "#%% md\n"
    }
   }
  },
  {
   "cell_type": "code",
   "execution_count": 34,
   "outputs": [],
   "source": [
    "ngrs_counter =collections.defaultdict(int)\n",
    "\n",
    "for index, row in all_genres_en.iterrows():\n",
    "    for ngram in row['chords']:\n",
    "        if ngram in ngrs_counter :\n",
    "            ngrs_counter[ngram] +=1\n",
    "        else:\n",
    "            ngrs_counter[ngram] =1\n",
    "\n",
    "\n",
    "#ngrs_counter\n"
   ],
   "metadata": {
    "collapsed": false,
    "pycharm": {
     "name": "#%%\n"
    }
   }
  },
  {
   "cell_type": "markdown",
   "source": [
    "### Most common 4-gram chords\n",
    "In this section we explored the most common 4-gram chords and we got the following results:"
   ],
   "metadata": {
    "collapsed": false,
    "pycharm": {
     "name": "#%% md\n"
    }
   }
  },
  {
   "cell_type": "code",
   "execution_count": 35,
   "outputs": [
    {
     "data": {
      "text/plain": "<Figure size 1152x288 with 1 Axes>",
      "image/png": "[encoded data removed]"
     },
     "metadata": {
      "needs_background": "light"
     },
     "output_type": "display_data"
    }
   ],
   "source": [
    "#plotting a histogram\n",
    "\n",
    "df_ngrs_counter=pd.DataFrame(sorted(ngrs_counter.items(),key=lambda x:x[1],reverse=True))\n",
    "pd1bi=df_ngrs_counter[0][:10]\n",
    "pd2bi=df_ngrs_counter[1][:10]\n",
    "\n",
    "plt.figure(1,figsize=(16,4))\n",
    "plt.bar(pd1bi,pd2bi, color ='green',width = 0.4)\n",
    "plt.xlabel(\"4-gram chords\")\n",
    "plt.ylabel(\"Count\")\n",
    "plt.title(\"Top 10 4-gram chords in all genres\")\n",
    "plt.savefig(\"positive-bigram.png\")\n",
    "plt.show()\n"
   ],
   "metadata": {
    "collapsed": false,
    "pycharm": {
     "name": "#%%\n"
    }
   }
  },
  {
   "cell_type": "markdown",
   "source": [
    "As many musicians know, the chord progression C G is very popular in western music,\n",
    "and here we got the proof of that.\n"
   ],
   "metadata": {
    "collapsed": false,
    "pycharm": {
     "name": "#%% md\n"
    }
   }
  },
  {
   "cell_type": "markdown",
   "source": [
    "### Least common 4-gram chords\n",
    "In this section we explored the least common 4-gram chords and we got the following results:"
   ],
   "metadata": {
    "collapsed": false
   }
  },
  {
   "cell_type": "code",
   "execution_count": 43,
   "outputs": [
    {
     "data": {
      "text/plain": "<Figure size 1152x288 with 1 Axes>",
      "image/png": "[encoded data removed]"
     },
     "metadata": {
      "needs_background": "light"
     },
     "output_type": "display_data"
    }
   ],
   "source": [
    "#plotting a histogram\n",
    "\n",
    "df_ngrs_counter=pd.DataFrame(sorted(ngrs_counter.items(),key=lambda x:x[1],reverse=False))\n",
    "pd1bi=df_ngrs_counter[0][:10]\n",
    "pd2bi=df_ngrs_counter[1][:10]\n",
    "\n",
    "plt.figure(1,figsize=(16,4))\n",
    "plt.bar(pd1bi,pd2bi, color ='red',width = 0.4)\n",
    "plt.xlabel(\"4-gram chords\")\n",
    "plt.ylabel(\"Count\")\n",
    "plt.title(\"Top 10 least common 4-gram chords in all genres\")\n",
    "plt.savefig(\"positive-bigram.png\")\n",
    "plt.show()"
   ],
   "metadata": {
    "collapsed": false,
    "pycharm": {
     "name": "#%%\n"
    }
   }
  },
  {
   "cell_type": "markdown",
   "source": [
    "We can see that the least common chords appear only one time in the whole dataset,\n",
    "which will make it hard for our model to anticpate them.\n"
   ],
   "metadata": {
    "collapsed": false,
    "pycharm": {
     "name": "#%% md\n"
    }
   }
  },
  {
   "cell_type": "markdown",
   "source": [
    "### Length of chords progression\n",
    "In this section we will study the length of chords progression in our dataset. First, we will build a dictionary\n",
    "to count how many times each length appears in our dataset."
   ],
   "metadata": {
    "collapsed": false
   }
  },
  {
   "cell_type": "code",
   "source": [
    "\n",
    "def convert_string_to_chords_list (chords_string):\n",
    "    \"\"\"\n",
    "    converts the list of chords (written as string) to list of chords\n",
    "    \"\"\"\n",
    "    in_bracket = False\n",
    "    str = ''\n",
    "    chords = []\n",
    "    for i in chords_string:\n",
    "        if in_bracket and i !='\\'' :\n",
    "            str += i\n",
    "        if i == '\\'' :\n",
    "            in_bracket = not in_bracket\n",
    "            if str != '' :\n",
    "                chords.append(str)\n",
    "\n",
    "            str = ''\n",
    "    return chords\n",
    "\n",
    "\n",
    "all_genres_en_len = pd.read_csv('data/all_genres_en.csv').drop(columns='Unnamed: 0')\n",
    "all_genres_en_len['chords'] = all_genres_en_len['chords'].apply(convert_string_to_chords_list)\n",
    "\n",
    "\n",
    "length_counter =collections.defaultdict(int)\n",
    "\n",
    "for index, row in all_genres_en.iterrows():\n",
    "    chord_progression_len = len(row['chords'])\n",
    "    if chord_progression_len in length_counter :\n",
    "        length_counter[chord_progression_len] +=1\n",
    "    else:\n",
    "        length_counter[chord_progression_len] =1\n",
    "\n",
    "\n",
    "#length_counter\n"
   ],
   "metadata": {
    "collapsed": false,
    "pycharm": {
     "name": "#%%\n"
    }
   },
   "execution_count": 48,
   "outputs": []
  },
  {
   "cell_type": "markdown",
   "source": [
    "And we get that the most common chord progression lengths are the following:"
   ],
   "metadata": {
    "collapsed": false,
    "pycharm": {
     "name": "#%% md\n"
    }
   }
  },
  {
   "cell_type": "code",
   "execution_count": 54,
   "outputs": [
    {
     "data": {
      "text/plain": "<Figure size 1152x288 with 1 Axes>",
      "image/png": "[encoded data removed]"
     },
     "metadata": {
      "needs_background": "light"
     },
     "output_type": "display_data"
    }
   ],
   "source": [
    "df_length_counter=pd.DataFrame(sorted(length_counter.items(),key=lambda x:x[1],reverse=True))\n",
    "pd1bi=df_length_counter[0][:10]\n",
    "pd2bi=df_length_counter[1][:10]\n",
    "\n",
    "plt.figure(1,figsize=(16,4))\n",
    "plt.bar(pd1bi,pd2bi, color ='purple',width = 0.4)\n",
    "plt.xlabel(\"Chord progression length\")\n",
    "plt.ylabel(\"Count\")\n",
    "plt.title(\"Top 10 most common chord progression lengths in all genres\")\n",
    "plt.savefig(\"positive-bigram.png\")\n",
    "plt.show()"
   ],
   "metadata": {
    "collapsed": false,
    "pycharm": {
     "name": "#%%\n"
    }
   }
  },
  {
   "cell_type": "markdown",
   "source": [
    "And the least common chord progression lengths are the following:"
   ],
   "metadata": {
    "collapsed": false
   }
  },
  {
   "cell_type": "code",
   "execution_count": 55,
   "outputs": [
    {
     "data": {
      "text/plain": "<Figure size 1152x288 with 1 Axes>",
      "image/png": "[encoded data removed]"
     },
     "metadata": {
      "needs_background": "light"
     },
     "output_type": "display_data"
    }
   ],
   "source": [
    "df_length_counter=pd.DataFrame(sorted(length_counter.items(),key=lambda x:x[1],reverse=False))\n",
    "pd1bi=df_length_counter[0][:10]\n",
    "pd2bi=df_length_counter[1][:10]\n",
    "\n",
    "plt.figure(1,figsize=(16,4))\n",
    "plt.bar(pd1bi,pd2bi, color ='purple',width = 0.4)\n",
    "plt.xlabel(\"Chord progression length\")\n",
    "plt.ylabel(\"Count\")\n",
    "plt.title(\"Top 10 least common chord progression lengths in all genres\")\n",
    "plt.savefig(\"positive-bigram.png\")\n",
    "plt.show()\n",
    "\n"
   ],
   "metadata": {
    "collapsed": false,
    "pycharm": {
     "name": "#%%\n"
    }
   }
  },
  {
   "cell_type": "markdown",
   "source": [
    "The histogram is not super clear because of the huge distance between the lengths, and using log\n",
    "scaled axis didn't help as well, thus we will print the least common chords progression lengths who appeared only once:"
   ],
   "metadata": {
    "collapsed": false,
    "pycharm": {
     "name": "#%% md\n"
    }
   }
  },
  {
   "cell_type": "code",
   "execution_count": 57,
   "outputs": [
    {
     "name": "stdout",
     "output_type": "stream",
     "text": [
      "0    435\n",
      "1    907\n",
      "2    221\n",
      "3    554\n",
      "4    274\n",
      "5    294\n",
      "6    876\n",
      "7    525\n",
      "8    223\n",
      "9    295\n",
      "Name: 0, dtype: int64\n"
     ]
    }
   ],
   "source": [
    "pd1bi=df_length_counter[0][:10]\n",
    "print(pd1bi)\n"
   ],
   "metadata": {
    "collapsed": false,
    "pycharm": {
     "name": "#%%\n"
    }
   }
  }
 ],
 "metadata": {
  "kernelspec": {
   "display_name": "Python 3",
   "language": "python",
   "name": "python3"
  },
  "language_info": {
   "codemirror_mode": {
    "name": "ipython",
    "version": 2
   },
   "file_extension": ".py",
   "mimetype": "text/x-python",
   "name": "python",
   "nbconvert_exporter": "python",
   "pygments_lexer": "ipython2",
   "version": "2.7.6"
  }
 },
 "nbformat": 4,
 "nbformat_minor": 0
}