{
 "cells": [
  {
   "cell_type": "code",
   "execution_count": 17,
   "metadata": {},
   "outputs": [],
   "source": [
    "import pandas as pd \n",
    "from ast import literal_eval\n",
    "from collections import Counter\n",
    "df = pd.read_csv(\"./scrapped_data/1_Rock_2020.csv\").drop(columns = \"Unnamed: 0\")\n",
    "list_of_chords= [literal_eval(l) for l in list(df.chords)]\n",
    "all_chords = [chord for l in list_of_chords for chord in l]"
   ]
  },
  {
   "cell_type": "code",
   "execution_count": 25,
   "metadata": {},
   "outputs": [
    {
     "data": {
      "text/plain": [
       "dict_keys(['Am', 'D', 'G', 'C', 'Cadd9', 'E7', 'Dm7', 'Dm7b5', 'Am/G', 'D/F#', 'G7', 'F', 'Fm', 'Em', 'Fmaj7', 'G#m', 'F#', 'C#m', 'B', 'E', 'D#', 'C5', 'E5', 'A5', 'F5', 'G5', 'A', 'E/G#', 'Amaj7', 'Am7', 'F#m', 'Dsus2', 'DM7', 'A7', 'Em7', 'G#', 'F#m11', 'Bm', 'Gm', 'Bb', 'Dm', 'Bbm', 'Cmaj7', 'Gmaj7', 'B7', 'G#7', 'C/E', 'C7/E', 'C7', 'Bbmaj7', 'Fm7', 'Cm7', 'Dbmaj7', 'Ab', 'Bbm7', 'D7', 'C#dim', 'Em7b5', 'Cdim', 'Cdim7', 'F#7', 'A/C#', 'Csus2', 'Cm', 'A6', 'C#7', 'Bm7', 'Gm7', 'Badd4', 'C/G', 'D/A', 'F#m7', 'F#m6', 'Dmaj7', 'C#+', 'C#m7', 'C#7+5', 'E6', 'Bm9', 'E6/G#', 'F#madd9', 'D5', 'F7', 'Emaj7', 'Bdim7', 'Adim'])"
      ]
     },
     "execution_count": 25,
     "metadata": {},
     "output_type": "execute_result"
    }
   ],
   "source": [
    "Counter(all_chords).keys()"
   ]
  },
  {
   "cell_type": "code",
   "execution_count": null,
   "metadata": {},
   "outputs": [],
   "source": [
    "C#\n",
    "F#\n",
    "Bb\n",
    "Ab\n",
    "Db"
   ]
  }
 ],
 "metadata": {
  "interpreter": {
   "hash": "2c08fb7d0681ab80e3191df3cdd3d9ae56e033f792b7fa01572cc6446116ecae"
  },
  "kernelspec": {
   "display_name": "Python 3.8.12 ('p38')",
   "language": "python",
   "name": "python3"
  },
  "language_info": {
   "codemirror_mode": {
    "name": "ipython",
    "version": 3
   },
   "file_extension": ".py",
   "mimetype": "text/x-python",
   "name": "python",
   "nbconvert_exporter": "python",
   "pygments_lexer": "ipython3",
   "version": "3.8.12"
  },
  "orig_nbformat": 4
 },
 "nbformat": 4,
 "nbformat_minor": 2
}
