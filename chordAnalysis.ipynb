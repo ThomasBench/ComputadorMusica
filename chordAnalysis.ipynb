{
 "cells": [
  {
   "cell_type": "markdown",
   "metadata": {},
   "source": [
    "# Chord analysis\n",
    "In this notebook, we perform analysis of the chord-related features in the dataset."
   ]
  },
  {
   "cell_type": "code",
   "execution_count": 1,
   "metadata": {},
   "outputs": [],
   "source": [
    "import pandas as pd\n",
    "import numpy as np\n",
    "from matplotlib import pyplot as plt\n",
    "from collections import Counter\n",
    "import ast"
   ]
  },
  {
   "cell_type": "code",
   "execution_count": 572,
   "metadata": {},
   "outputs": [
    {
     "data": {
      "text/html": [
       "<div>\n",
       "<style scoped>\n",
       "    .dataframe tbody tr th:only-of-type {\n",
       "        vertical-align: middle;\n",
       "    }\n",
       "\n",
       "    .dataframe tbody tr th {\n",
       "        vertical-align: top;\n",
       "    }\n",
       "\n",
       "    .dataframe thead th {\n",
       "        text-align: right;\n",
       "    }\n",
       "</style>\n",
       "<table border=\"1\" class=\"dataframe\">\n",
       "  <thead>\n",
       "    <tr style=\"text-align: right;\">\n",
       "      <th></th>\n",
       "      <th>name</th>\n",
       "      <th>author</th>\n",
       "      <th>link</th>\n",
       "      <th>lyrics</th>\n",
       "      <th>chords</th>\n",
       "      <th>genre</th>\n",
       "      <th>actual_name</th>\n",
       "      <th>language</th>\n",
       "      <th>clean_lyrics</th>\n",
       "      <th>emotion</th>\n",
       "      <th>sentiment</th>\n",
       "      <th>sentiment_name</th>\n",
       "      <th>nr_chords</th>\n",
       "      <th>sentiment_compound</th>\n",
       "    </tr>\n",
       "  </thead>\n",
       "  <tbody>\n",
       "    <tr>\n",
       "      <th>0</th>\n",
       "      <td>As Long As The Grass Shall Grow</td>\n",
       "      <td>Johnny Cash</td>\n",
       "      <td>https://tabs.ultimate-guitar.com/tab/johnny-ca...</td>\n",
       "      <td>As long,  As the moon shall rise,     As ...</td>\n",
       "      <td>[A, E, A, A, E, A, D, D, A, D, D, A, A, D, E, ...</td>\n",
       "      <td>Country</td>\n",
       "      <td>As Long As The Grass Shall Grow</td>\n",
       "      <td>en</td>\n",
       "      <td>As long,  As the moon shall rise,     As ...</td>\n",
       "      <td>[joy, neutral, anger]</td>\n",
       "      <td>{'neg': 0.07200000000000001, 'neu': 0.844, 'po...</td>\n",
       "      <td>positive</td>\n",
       "      <td>124</td>\n",
       "      <td>0.7003</td>\n",
       "    </tr>\n",
       "    <tr>\n",
       "      <th>1</th>\n",
       "      <td>Delias Gone (ver 4)</td>\n",
       "      <td>Johnny Cash</td>\n",
       "      <td>https://tabs.ultimate-guitar.com/tab/johnny-ca...</td>\n",
       "      <td>Delia, oh, Delia Delia all my life\\r\\nIf I had...</td>\n",
       "      <td>[A, D, A, A7, D, B7, E, A, D, A, E, A, A, D, A...</td>\n",
       "      <td>Country</td>\n",
       "      <td>Delias Gone</td>\n",
       "      <td>en</td>\n",
       "      <td>Delia, oh, Delia Delia all my life If I hadn't...</td>\n",
       "      <td>[anger, fear, sad]</td>\n",
       "      <td>{'neg': 0.094, 'neu': 0.872, 'pos': 0.035, 'co...</td>\n",
       "      <td>negative</td>\n",
       "      <td>69</td>\n",
       "      <td>-0.8903</td>\n",
       "    </tr>\n",
       "  </tbody>\n",
       "</table>\n",
       "</div>"
      ],
      "text/plain": [
       "                              name       author  \\\n",
       "0  As Long As The Grass Shall Grow  Johnny Cash   \n",
       "1              Delias Gone (ver 4)  Johnny Cash   \n",
       "\n",
       "                                                link  \\\n",
       "0  https://tabs.ultimate-guitar.com/tab/johnny-ca...   \n",
       "1  https://tabs.ultimate-guitar.com/tab/johnny-ca...   \n",
       "\n",
       "                                              lyrics  \\\n",
       "0       As long,  As the moon shall rise,     As ...   \n",
       "1  Delia, oh, Delia Delia all my life\\r\\nIf I had...   \n",
       "\n",
       "                                              chords    genre  \\\n",
       "0  [A, E, A, A, E, A, D, D, A, D, D, A, A, D, E, ...  Country   \n",
       "1  [A, D, A, A7, D, B7, E, A, D, A, E, A, A, D, A...  Country   \n",
       "\n",
       "                       actual_name language  \\\n",
       "0  As Long As The Grass Shall Grow       en   \n",
       "1                      Delias Gone       en   \n",
       "\n",
       "                                        clean_lyrics                emotion  \\\n",
       "0       As long,  As the moon shall rise,     As ...  [joy, neutral, anger]   \n",
       "1  Delia, oh, Delia Delia all my life If I hadn't...     [anger, fear, sad]   \n",
       "\n",
       "                                           sentiment sentiment_name  \\\n",
       "0  {'neg': 0.07200000000000001, 'neu': 0.844, 'po...       positive   \n",
       "1  {'neg': 0.094, 'neu': 0.872, 'pos': 0.035, 'co...       negative   \n",
       "\n",
       "   nr_chords  sentiment_compound  \n",
       "0        124              0.7003  \n",
       "1         69             -0.8903  "
      ]
     },
     "execution_count": 572,
     "metadata": {},
     "output_type": "execute_result"
    }
   ],
   "source": [
    "songs = pd.read_json('data/songs_with_sentiment.json.bz2', compression='bz2')\n",
    "songs['chords'] = songs['chords'].apply(lambda chords: ast.literal_eval(chords))\n",
    "songs['nr_chords'] = songs['chords'].apply(lambda chords: len(chords))\n",
    "songs.head(2)"
   ]
  },
  {
   "cell_type": "markdown",
   "metadata": {},
   "source": [
    "#### Sentiment of chord progressions\n",
    "Here, we want to understand if the distribution of 4-grams is different for the lyrics with positive and negative sentiment. Intuitively, the songs with positive sentiment should have more major chords while the negative ones should have more minor chords."
   ]
  },
  {
   "cell_type": "code",
   "execution_count": 579,
   "metadata": {},
   "outputs": [],
   "source": [
    "def convert_string_to_ngrams_list (chords, ngram = 4):\n",
    "    \"\"\"\n",
    "    converts the list of chords to list of ngrams, each ngram is one list\n",
    "    \"\"\"\n",
    "    temp = zip(*[chords[i:] for i in range(0,ngram)])\n",
    "    ans=[' '.join(ngram) for ngram in temp]\n",
    "\n",
    "    return ans\n",
    "songs['ngrams'] = songs['chords'].apply(lambda x: convert_string_to_ngrams_list(x,4))\n",
    "songs['ngrams'] = songs['ngrams'].apply(lambda x:  x if len(x) > 0 else np.NaN)\n",
    "songs = songs.dropna(subset=[\"ngrams\"])\n",
    "songs[\"best_ngram\"] = songs['ngrams'].apply( lambda x:  tuple(list(Counter(x).most_common(1))[0][0].split()))\n"
   ]
  },
  {
   "cell_type": "code",
   "execution_count": 580,
   "metadata": {},
   "outputs": [],
   "source": [
    "positive = songs[songs.sentiment_name == 'positive']\n",
    "negative = songs[songs.sentiment_name == 'negative']"
   ]
  },
  {
   "cell_type": "markdown",
   "metadata": {},
   "source": [
    "Plot distribution of best 4-grams for positive and negative songs"
   ]
  },
  {
   "cell_type": "code",
   "execution_count": 587,
   "metadata": {},
   "outputs": [
    {
     "data": {
      "image/png": "[encoded data removed]",
      "text/plain": [
       "<Figure size 864x720 with 2 Axes>"
      ]
     },
     "metadata": {
      "needs_background": "light"
     },
     "output_type": "display_data"
    }
   ],
   "source": [
    "fig, ax = plt.subplots(1, 2, figsize=(12, 10))\n",
    "\n",
    "top = 20\n",
    "\n",
    "ax[0].barh(range(top), 100 * positive['best_ngram'].value_counts().values[:top][::-1] / positive.shape[0], alpha=0.7)\n",
    "_ = ax[0].set_yticks(range(top))\n",
    "_ = ax[0].set_yticklabels(positive['best_ngram'].value_counts().keys()[:top][::-1])\n",
    "_ = ax[0].set_title('Positive songs')\n",
    "_ = ax[0].set_xlabel('Percentage')\n",
    "_ = ax[0].set_ylabel('Chord progression')\n",
    "\n",
    "nr_unique_ngrams_negative = len(negative.drop_duplicates(['best_ngram']))\n",
    "ax[1].barh(range(top), 100 * negative['best_ngram'].value_counts().values[:top][::-1] / negative.shape[0], color='r', alpha=0.6)\n",
    "_ = ax[1].set_yticks(range(top))\n",
    "_ = ax[1].set_yticklabels(negative['best_ngram'].value_counts().keys()[:top][::-1])\n",
    "_ = ax[1].set_title('Negative songs')\n",
    "_ = ax[1].set_xlabel('Percentage')\n",
    "_ = ax[1].set_ylabel('Chord progression')\n",
    "\n",
    "plt.subplots_adjust(wspace=0.45)"
   ]
  },
  {
   "cell_type": "markdown",
   "metadata": {},
   "source": [
    "### Q1: Are minor chords more present in chord progressions with negative sentiment?\n",
    "To extract more easily readable information from the plot above, count the number of minor chords among the top 200 negative and positive songs. According to our intuition as musicians, sad songs have more minor chords than happy ones."
   ]
  },
  {
   "cell_type": "code",
   "execution_count": 524,
   "metadata": {},
   "outputs": [
    {
     "name": "stdout",
     "output_type": "stream",
     "text": [
      "Number of minor chords among NEGATIVE songs: 279\n",
      "Number of minor chords among POSITIVE songs: 289\n"
     ]
    }
   ],
   "source": [
    "top = 200\n",
    "\n",
    "# Top 10 n-grams with most positive sentiment\n",
    "top_positive_ngrams = songs.groupby(by=['best_ngram'], as_index=False).mean().sort_values(by='sentiment_compound')[-top:]\n",
    "\n",
    "# Top 10 n-grams with most negative sentiment\n",
    "top_negative_ngrams = songs.groupby(by=['best_ngram'], as_index=False).mean().sort_values(by='sentiment_compound')[:top]\n",
    "\n",
    "def count_minors(top_ngrams):\n",
    "    minor_count = 0\n",
    "    for ngram in top_ngrams: #top_negative_ngrams.best_ngram.values:\n",
    "        for chord in ngram:\n",
    "            if 'm' in chord and 'maj' not in chord:\n",
    "                minor_count += 1\n",
    "    return minor_count\n",
    "print(f'Number of minor chords among NEGATIVE songs: {count_minors(top_negative_ngrams.best_ngram.values)}')\n",
    "print(f'Number of minor chords among POSITIVE songs: {count_minors(top_positive_ngrams.best_ngram.values)}')"
   ]
  },
  {
   "cell_type": "markdown",
   "metadata": {},
   "source": [
    "**CONCLUSION**: It doesn't seem that we can draw the conclusion that sad songs have more minor chords than happy ones using this dataset."
   ]
  },
  {
   "cell_type": "markdown",
   "metadata": {},
   "source": [
    "### Q2: What are the length of the chord sequences in the dataset?\n",
    "By \"chord sequences\" here we mean all the chords in the song."
   ]
  },
  {
   "cell_type": "markdown",
   "metadata": {},
   "source": [
    "Plot distribution of length of chord progressions"
   ]
  },
  {
   "cell_type": "code",
   "execution_count": 525,
   "metadata": {},
   "outputs": [
    {
     "name": "stdout",
     "output_type": "stream",
     "text": [
      "Reference values of number of chords:\n",
      "\n",
      "Number of chords of Bohemian Rhapsody: 211\n",
      "Number of chords of Strawberry Fields Forever: 80\n"
     ]
    }
   ],
   "source": [
    "def get_nr_of_chords(song_name):\n",
    "    return len(songs.loc[songs.actual_name == song_name].chords.values[0])\n",
    "\n",
    "print('Reference values of number of chords:\\n')\n",
    "song_name = 'Bohemian Rhapsody'\n",
    "print(f'Number of chords of {song_name}: {get_nr_of_chords(song_name)}')\n",
    "song_name = 'Strawberry Fields Forever'\n",
    "print(f'Number of chords of {song_name}: {get_nr_of_chords(song_name)}')"
   ]
  },
  {
   "cell_type": "code",
   "execution_count": 526,
   "metadata": {},
   "outputs": [
    {
     "name": "stdout",
     "output_type": "stream",
     "text": [
      "Min number of chords: 4\n",
      "Max number of chords: 1894\n"
     ]
    }
   ],
   "source": [
    "print(f\"Min number of chords: {songs['nr_chords'].min()}\")\n",
    "print(f\"Max number of chords: {songs['nr_chords'].max()}\")"
   ]
  },
  {
   "cell_type": "code",
   "execution_count": 527,
   "metadata": {},
   "outputs": [
    {
     "name": "stdout",
     "output_type": "stream",
     "text": [
      " 99.54% of songs have less than 250 chords\n"
     ]
    }
   ],
   "source": [
    "print(f\" {100 * (songs['nr_chords'].values < 250).sum() / len(songs['nr_chords'].values):.2f}% of songs have less than 250 chords\")"
   ]
  },
  {
   "cell_type": "markdown",
   "metadata": {},
   "source": [
    "**CONCLUSION**: See below. As printed right above, 99.54% of all songs have less than 250 chords."
   ]
  },
  {
   "cell_type": "code",
   "execution_count": 514,
   "metadata": {},
   "outputs": [
    {
     "data": {
      "image/png": "[encoded data removed]",
      "text/plain": [
       "<Figure size 432x288 with 1 Axes>"
      ]
     },
     "metadata": {
      "needs_background": "light"
     },
     "output_type": "display_data"
    }
   ],
   "source": [
    "sorted_nr_chords = np.sort(songs['nr_chords'].values)\n",
    "plt.scatter(range(len(sorted_nr_chords)), sorted_nr_chords, s=2)\n",
    "plt.axhline(y=250, color='r', linestyle='--')\n",
    "_ = plt.xlabel('Song')\n",
    "_ = plt.ylabel('Number of chords')\n",
    "_ = plt.yscale('log')"
   ]
  },
  {
   "cell_type": "markdown",
   "metadata": {},
   "source": [
    "### Known bugs"
   ]
  },
  {
   "cell_type": "markdown",
   "metadata": {},
   "source": [
    "**Bug 1**: See below an example that sometimes the chords weren't extracted perfectly: see the chords of the song [\"Fight for love\"](https://tabs.ultimate-guitar.com/tab/elliott-yamin/fight-for-love-chords-834215), it has clearly more than 4 chords, but due to the fact as the page is organized and we extracted the html elements, we get this error."
   ]
  },
  {
   "cell_type": "code",
   "execution_count": 568,
   "metadata": {},
   "outputs": [
    {
     "name": "stdout",
     "output_type": "stream",
     "text": [
      "(21, 4)\n"
     ]
    },
    {
     "data": {
      "text/html": [
       "<div>\n",
       "<style scoped>\n",
       "    .dataframe tbody tr th:only-of-type {\n",
       "        vertical-align: middle;\n",
       "    }\n",
       "\n",
       "    .dataframe tbody tr th {\n",
       "        vertical-align: top;\n",
       "    }\n",
       "\n",
       "    .dataframe thead th {\n",
       "        text-align: right;\n",
       "    }\n",
       "</style>\n",
       "<table border=\"1\" class=\"dataframe\">\n",
       "  <thead>\n",
       "    <tr style=\"text-align: right;\">\n",
       "      <th></th>\n",
       "      <th>name</th>\n",
       "      <th>author</th>\n",
       "      <th>chords</th>\n",
       "      <th>link</th>\n",
       "    </tr>\n",
       "  </thead>\n",
       "  <tbody>\n",
       "    <tr>\n",
       "      <th>686</th>\n",
       "      <td>A Boy Named Sue</td>\n",
       "      <td>Shel Silverstein</td>\n",
       "      <td>[A, D, A, D]</td>\n",
       "      <td>https://tabs.ultimate-guitar.com/tab/shel-silv...</td>\n",
       "    </tr>\n",
       "    <tr>\n",
       "      <th>3773</th>\n",
       "      <td>Cant Leave You Alone</td>\n",
       "      <td>Susan Tedeschi</td>\n",
       "      <td>[B, A, E, F#m]</td>\n",
       "      <td>https://tabs.ultimate-guitar.com/tab/susan-ted...</td>\n",
       "    </tr>\n",
       "    <tr>\n",
       "      <th>4471</th>\n",
       "      <td>Angel Dance</td>\n",
       "      <td>Robert Plant</td>\n",
       "      <td>[C, C, C, C]</td>\n",
       "      <td>https://tabs.ultimate-guitar.com/tab/robert-pl...</td>\n",
       "    </tr>\n",
       "    <tr>\n",
       "      <th>5565</th>\n",
       "      <td>Nada</td>\n",
       "      <td>The Refreshments</td>\n",
       "      <td>[F, C, F, C]</td>\n",
       "      <td>https://tabs.ultimate-guitar.com/tab/the-refre...</td>\n",
       "    </tr>\n",
       "    <tr>\n",
       "      <th>5851</th>\n",
       "      <td>Those Final Feet</td>\n",
       "      <td>Cowboy Junkies</td>\n",
       "      <td>[G, Am, C, G]</td>\n",
       "      <td>https://tabs.ultimate-guitar.com/tab/cowboy-ju...</td>\n",
       "    </tr>\n",
       "  </tbody>\n",
       "</table>\n",
       "</div>"
      ],
      "text/plain": [
       "                      name            author          chords  \\\n",
       "686        A Boy Named Sue  Shel Silverstein    [A, D, A, D]   \n",
       "3773  Cant Leave You Alone    Susan Tedeschi  [B, A, E, F#m]   \n",
       "4471           Angel Dance      Robert Plant    [C, C, C, C]   \n",
       "5565                  Nada  The Refreshments    [F, C, F, C]   \n",
       "5851      Those Final Feet    Cowboy Junkies   [G, Am, C, G]   \n",
       "\n",
       "                                                   link  \n",
       "686   https://tabs.ultimate-guitar.com/tab/shel-silv...  \n",
       "3773  https://tabs.ultimate-guitar.com/tab/susan-ted...  \n",
       "4471  https://tabs.ultimate-guitar.com/tab/robert-pl...  \n",
       "5565  https://tabs.ultimate-guitar.com/tab/the-refre...  \n",
       "5851  https://tabs.ultimate-guitar.com/tab/cowboy-ju...  "
      ]
     },
     "execution_count": 568,
     "metadata": {},
     "output_type": "execute_result"
    }
   ],
   "source": [
    "print(songs.loc[songs['nr_chords'] == 4][['name', 'author', 'chords', 'link']].shape)\n",
    "songs.loc[songs['nr_chords'] == 4][['name', 'author', 'chords', 'link']].head(5)"
   ]
  },
  {
   "cell_type": "code",
   "execution_count": 535,
   "metadata": {},
   "outputs": [
    {
     "data": {
      "text/plain": [
       "25954    [Am, F, C, G]\n",
       "Name: chords, dtype: object"
      ]
     },
     "execution_count": 535,
     "metadata": {},
     "output_type": "execute_result"
    }
   ],
   "source": [
    "# \"Fight for love\" bug\n",
    "songs.loc[songs['actual_name'] == 'Fight For Love'].chords"
   ]
  },
  {
   "cell_type": "markdown",
   "metadata": {},
   "source": [
    "**Bug 2**: Sometimes, the song link contains songs from an entire album. See for instance these links which contain all songs from entire albums: \n",
    "- [All things will pass](https://tabs.ultimate-guitar.com/tab/george-harrison/all-things-must-pass-chords-2805455), by George Harrison;\n",
    "- [Dangerous woman](https://tabs.ultimate-guitar.com/tab/ariana-grande/dangerous-woman-chords-1846501), by Ariana Grande;\n",
    "- [Speak now](https://tabs.ultimate-guitar.com/tab/taylor-swift/speak-now-chords-1013868), by Taylor Swift.\n",
    "\n",
    "This is the reason why these song-entries have over 1500 chords."
   ]
  },
  {
   "cell_type": "code",
   "execution_count": 562,
   "metadata": {},
   "outputs": [
    {
     "data": {
      "text/html": [
       "<div>\n",
       "<style scoped>\n",
       "    .dataframe tbody tr th:only-of-type {\n",
       "        vertical-align: middle;\n",
       "    }\n",
       "\n",
       "    .dataframe tbody tr th {\n",
       "        vertical-align: top;\n",
       "    }\n",
       "\n",
       "    .dataframe thead th {\n",
       "        text-align: right;\n",
       "    }\n",
       "</style>\n",
       "<table border=\"1\" class=\"dataframe\">\n",
       "  <thead>\n",
       "    <tr style=\"text-align: right;\">\n",
       "      <th></th>\n",
       "      <th>name</th>\n",
       "      <th>author</th>\n",
       "      <th>nr_chords</th>\n",
       "    </tr>\n",
       "  </thead>\n",
       "  <tbody>\n",
       "    <tr>\n",
       "      <th>20793</th>\n",
       "      <td>All Things Must Pass Album</td>\n",
       "      <td>George Harrison</td>\n",
       "      <td>1594</td>\n",
       "    </tr>\n",
       "    <tr>\n",
       "      <th>23148</th>\n",
       "      <td>Speak Now Album</td>\n",
       "      <td>Taylor Swift</td>\n",
       "      <td>1894</td>\n",
       "    </tr>\n",
       "    <tr>\n",
       "      <th>26000</th>\n",
       "      <td>Dangerous Woman Album</td>\n",
       "      <td>Ariana Grande</td>\n",
       "      <td>1797</td>\n",
       "    </tr>\n",
       "  </tbody>\n",
       "</table>\n",
       "</div>"
      ],
      "text/plain": [
       "                             name           author  nr_chords\n",
       "20793  All Things Must Pass Album  George Harrison       1594\n",
       "23148             Speak Now Album     Taylor Swift       1894\n",
       "26000       Dangerous Woman Album    Ariana Grande       1797"
      ]
     },
     "execution_count": 562,
     "metadata": {},
     "output_type": "execute_result"
    }
   ],
   "source": [
    "songs.loc[songs['nr_chords'].values > 1500][['name', 'author', 'nr_chords']]"
   ]
  }
 ],
 "metadata": {
  "kernelspec": {
   "display_name": "Python 3.9.2 64-bit",
   "language": "python",
   "name": "python3"
  },
  "language_info": {
   "codemirror_mode": {
    "name": "ipython",
    "version": 3
   },
   "file_extension": ".py",
   "mimetype": "text/x-python",
   "name": "python",
   "nbconvert_exporter": "python",
   "pygments_lexer": "ipython3",
   "version": "3.9.2"
  },
  "orig_nbformat": 4,
  "vscode": {
   "interpreter": {
    "hash": "aabdcabb1ce183cf2e0b393220d39e588eba15c9156edfaebeefbd82b848687e"
   }
  }
 },
 "nbformat": 4,
 "nbformat_minor": 2
}
