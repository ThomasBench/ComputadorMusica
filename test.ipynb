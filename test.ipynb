{
 "cells": [
  {
   "cell_type": "code",
   "execution_count": 2,
   "metadata": {},
   "outputs": [
    {
     "name": "stderr",
     "output_type": "stream",
     "text": [
      "C:\\Users\\bench\\AppData\\Local\\Temp/ipykernel_26712/1318896890.py:6: DeprecationWarning: firefox_profile has been deprecated, please use an Options object\n",
      "  profile = FirefoxProfile(r\"C:\\Users\\bench\\Desktop\\Tor Browser\\Browser\\TorBrowser\\Data\\Browser\\profile.default\")\n",
      "C:\\Users\\bench\\AppData\\Local\\Temp/ipykernel_26712/1318896890.py:9: DeprecationWarning: firefox_profile has been deprecated, please use an Options object\n",
      "  profile = FirefoxProfile(r\"C:\\Users\\bench\\Desktop\\Tor Browser\\Browser\\TorBrowser\\Data\\Browser\\profile.default\")\n",
      "C:\\Users\\bench\\AppData\\Local\\Temp/ipykernel_26712/1318896890.py:21: DeprecationWarning: firefox_binary has been deprecated, please pass in a Service object\n",
      "  DRIVER = webdriver.Firefox(profile, binary,options = options)\n",
      "C:\\Users\\bench\\AppData\\Local\\Temp/ipykernel_26712/1318896890.py:21: DeprecationWarning: firefox_profile has been deprecated, please pass in an Options object\n",
      "  DRIVER = webdriver.Firefox(profile, binary,options = options)\n"
     ]
    }
   ],
   "source": [
    "from selenium.webdriver.firefox.firefox_profile import FirefoxProfile\n",
    "from selenium.webdriver.firefox.firefox_binary import FirefoxBinary\n",
    "from selenium.webdriver.firefox.options import Options\n",
    "from selenium import webdriver\n",
    "binary = FirefoxBinary(r\"C:\\Users\\bench\\Desktop\\Tor Browser\\Browser\\firefox.exe\")\n",
    "profile = FirefoxProfile(r\"C:\\Users\\bench\\Desktop\\Tor Browser\\Browser\\TorBrowser\\Data\\Browser\\profile.default\")\n",
    "\n",
    "binary = FirefoxBinary(r\"C:\\Users\\bench\\Desktop\\Tor Browser\\Browser\\firefox.exe\")\n",
    "profile = FirefoxProfile(r\"C:\\Users\\bench\\Desktop\\Tor Browser\\Browser\\TorBrowser\\Data\\Browser\\profile.default\")\n",
    "profile.set_preference('network.proxy.type', 1)\n",
    "profile.set_preference('network.proxy.socks', '127.0.0.1')\n",
    "profile.set_preference('network.proxy.socks_port', 9150)\n",
    "profile.set_preference(\"network.proxy.socks_remote_dns\", False)\n",
    "profile.update_preferences()\n",
    "options = Options()\n",
    "# options.add_argument('--headless')\n",
    "DRIVER = webdriver.Firefox(profile, binary,options = options)\n",
    "\n",
    "# driver.find_element_by_xpath('//*[@id=\"connectButton\"]').click()\n",
    "DRIVER.get(\"http://check.torproject.org\")\n",
    "DRIVER.save_screenshot(\"screenshot.png\")\n",
    "DRIVER.get(\"https://www.ultimate-guitar.com/explore\")\n",
    "# DRIVER.quit()"
   ]
  },
  {
   "cell_type": "code",
   "execution_count": 7,
   "metadata": {},
   "outputs": [
    {
     "ename": "TBDriverPathError",
     "evalue": "Invalid Firefox binary C:\\Users\\bench\\Desktop\\Tor Browser\\Browser\\Browser\\firefox",
     "output_type": "error",
     "traceback": [
      "\u001b[1;31m---------------------------------------------------------------------------\u001b[0m",
      "\u001b[1;31mTBDriverPathError\u001b[0m                         Traceback (most recent call last)",
      "\u001b[1;32m~\\AppData\\Local\\Temp/ipykernel_28880/3755168226.py\u001b[0m in \u001b[0;36m<module>\u001b[1;34m\u001b[0m\n\u001b[0;32m      1\u001b[0m \u001b[1;32mfrom\u001b[0m \u001b[0mtbselenium\u001b[0m\u001b[1;33m.\u001b[0m\u001b[0mtbdriver\u001b[0m \u001b[1;32mimport\u001b[0m \u001b[0mTorBrowserDriver\u001b[0m\u001b[1;33m\u001b[0m\u001b[1;33m\u001b[0m\u001b[0m\n\u001b[1;32m----> 2\u001b[1;33m \u001b[1;32mwith\u001b[0m \u001b[0mTorBrowserDriver\u001b[0m\u001b[1;33m(\u001b[0m\u001b[1;34mr\"C:\\Users\\bench\\Desktop\\Tor Browser\\Browser\"\u001b[0m\u001b[1;33m)\u001b[0m \u001b[1;32mas\u001b[0m \u001b[0mdriver\u001b[0m\u001b[1;33m:\u001b[0m\u001b[1;33m\u001b[0m\u001b[1;33m\u001b[0m\u001b[0m\n\u001b[0m\u001b[0;32m      3\u001b[0m     \u001b[0mdriver\u001b[0m\u001b[1;33m.\u001b[0m\u001b[0mget\u001b[0m\u001b[1;33m(\u001b[0m\u001b[1;34m'https://check.torproject.org'\u001b[0m\u001b[1;33m)\u001b[0m\u001b[1;33m\u001b[0m\u001b[1;33m\u001b[0m\u001b[0m\n",
      "\u001b[1;32mc:\\Users\\bench\\anaconda3\\envs\\p38\\lib\\site-packages\\tbselenium\\tbdriver.py\u001b[0m in \u001b[0;36m__init__\u001b[1;34m(self, tbb_path, tor_cfg, tbb_fx_binary_path, tbb_profile_path, tbb_logfile_path, tor_data_dir, executable_path, pref_dict, socks_port, control_port, extensions, default_bridge_type, headless, options, use_custom_profile)\u001b[0m\n\u001b[0;32m     52\u001b[0m         \u001b[0mself\u001b[0m\u001b[1;33m.\u001b[0m\u001b[0muse_custom_profile\u001b[0m \u001b[1;33m=\u001b[0m \u001b[0muse_custom_profile\u001b[0m\u001b[1;33m\u001b[0m\u001b[1;33m\u001b[0m\u001b[0m\n\u001b[0;32m     53\u001b[0m         \u001b[0mself\u001b[0m\u001b[1;33m.\u001b[0m\u001b[0mtor_cfg\u001b[0m \u001b[1;33m=\u001b[0m \u001b[0mtor_cfg\u001b[0m\u001b[1;33m\u001b[0m\u001b[1;33m\u001b[0m\u001b[0m\n\u001b[1;32m---> 54\u001b[1;33m         self.setup_tbb_paths(tbb_path, tbb_fx_binary_path,\n\u001b[0m\u001b[0;32m     55\u001b[0m                              tbb_profile_path, tor_data_dir)\n\u001b[0;32m     56\u001b[0m         \u001b[0mself\u001b[0m\u001b[1;33m.\u001b[0m\u001b[0moptions\u001b[0m \u001b[1;33m=\u001b[0m \u001b[0mOptions\u001b[0m\u001b[1;33m(\u001b[0m\u001b[1;33m)\u001b[0m \u001b[1;32mif\u001b[0m \u001b[0moptions\u001b[0m \u001b[1;32mis\u001b[0m \u001b[1;32mNone\u001b[0m \u001b[1;32melse\u001b[0m \u001b[0moptions\u001b[0m\u001b[1;33m\u001b[0m\u001b[1;33m\u001b[0m\u001b[0m\n",
      "\u001b[1;32mc:\\Users\\bench\\anaconda3\\envs\\p38\\lib\\site-packages\\tbselenium\\tbdriver.py\u001b[0m in \u001b[0;36msetup_tbb_paths\u001b[1;34m(self, tbb_path, tbb_fx_binary_path, tbb_profile_path, tor_data_dir)\u001b[0m\n\u001b[0;32m    169\u001b[0m \u001b[1;33m\u001b[0m\u001b[0m\n\u001b[0;32m    170\u001b[0m         \u001b[1;32mif\u001b[0m \u001b[1;32mnot\u001b[0m \u001b[0misfile\u001b[0m\u001b[1;33m(\u001b[0m\u001b[0mtbb_fx_binary_path\u001b[0m\u001b[1;33m)\u001b[0m\u001b[1;33m:\u001b[0m\u001b[1;33m\u001b[0m\u001b[1;33m\u001b[0m\u001b[0m\n\u001b[1;32m--> 171\u001b[1;33m             raise TBDriverPathError(\"Invalid Firefox binary %s\"\n\u001b[0m\u001b[0;32m    172\u001b[0m                                     % tbb_fx_binary_path)\n\u001b[0;32m    173\u001b[0m         \u001b[1;32mif\u001b[0m \u001b[1;32mnot\u001b[0m \u001b[0misdir\u001b[0m\u001b[1;33m(\u001b[0m\u001b[0mtbb_profile_path\u001b[0m\u001b[1;33m)\u001b[0m\u001b[1;33m:\u001b[0m\u001b[1;33m\u001b[0m\u001b[1;33m\u001b[0m\u001b[0m\n",
      "\u001b[1;31mTBDriverPathError\u001b[0m: Invalid Firefox binary C:\\Users\\bench\\Desktop\\Tor Browser\\Browser\\Browser\\firefox"
     ]
    }
   ],
   "source": [
    "from tbselenium.tbdriver import TorBrowserDriver\n",
    "with TorBrowserDriver(r\"C:\\Users\\bench\\Desktop\\Tor Browser\\Browser\") as driver:\n",
    "    driver.get('https://check.torproject.org')"
   ]
  },
  {
   "cell_type": "code",
   "execution_count": null,
   "metadata": {},
   "outputs": [],
   "source": []
  }
 ],
 "metadata": {
  "interpreter": {
   "hash": "2c08fb7d0681ab80e3191df3cdd3d9ae56e033f792b7fa01572cc6446116ecae"
  },
  "kernelspec": {
   "display_name": "Python 3.8.12 ('p38')",
   "language": "python",
   "name": "python3"
  },
  "language_info": {
   "codemirror_mode": {
    "name": "ipython",
    "version": 3
   },
   "file_extension": ".py",
   "mimetype": "text/x-python",
   "name": "python",
   "nbconvert_exporter": "python",
   "pygments_lexer": "ipython3",
   "version": "3.8.12"
  },
  "orig_nbformat": 4
 },
 "nbformat": 4,
 "nbformat_minor": 2
}
