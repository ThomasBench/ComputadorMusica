{
 "cells": [
  {
   "cell_type": "code",
   "execution_count": 2,
   "metadata": {},
   "outputs": [],
   "source": [
    "from driver import create_driver # import driver from the driver file\n",
    "from helpers import *\n",
    "import numpy as np \n",
    "import os.path\n",
    "from tqdm.notebook import tqdm\n",
    "\n",
    "# Where to store the scrapped data\n",
    "result_folder = \"./scrapped_data/\"\n",
    "\n",
    "\n",
    "# Scrapping parameters\n",
    "DATES =  [int(a) for a in np.linspace(1960,2020,7)]\n",
    "GENRE = \"R&b, Funk & Soul\"\n",
    "MAX_PAGE = 35\n",
    "\n",
    "# Initialisation of the selenium driver for scrapping\n",
    "# As it uses tor, it needs a little bit of configuration \n",
    "DRIVER = create_driver()\n",
    "DRIVER.get(\"http://check.torproject.org\")\n",
    "\n",
    "\n",
    "# Generation of the data tuples to scrap\n",
    "genreTuples = [(i, GENRE, k) for i in range(1, MAX_PAGE+1) for k in DATES]\n"
   ]
  },
  {
   "cell_type": "code",
   "execution_count": null,
   "metadata": {},
   "outputs": [],
   "source": [
    "# From the generated tuple, scrap and store the scrapped songs \n",
    "songs = []\n",
    "for tuple in tqdm(genreTuples):\n",
    "    filepath =   result_folder+\"/\"+GENRE + '/'+ \"_\".join([str(t) for t in tuple]) + '.csv'\n",
    "    if not os.path.isfile(filepath):\n",
    "        # print(tuple)\n",
    "        songs = treat_tuple(tuple, DRIVER)\n",
    "        if len(songs) > 0:\n",
    "            df = songs_to_df(songs)\n",
    "            df.to_csv(filepath)\n"
   ]
  },
  {
   "cell_type": "code",
   "execution_count": null,
   "metadata": {},
   "outputs": [],
   "source": [
    "### Code for a single link \n",
    "\n",
    "# Select the page you want to retrieve the songs from\n",
    "link = \"https://tabs.ultimate-guitar.com/tab/gorillaz/feel-good-inc-chords-1434111\"\n",
    "\n",
    "# Retrieve the songs\n",
    "songs = get_songs_from_link(link)\n",
    "\n",
    "# Transforms the array into a DataFrame\n",
    "df = songs_to_df(songs)\n",
    "df"
   ]
  }
 ],
 "metadata": {
  "interpreter": {
   "hash": "2c08fb7d0681ab80e3191df3cdd3d9ae56e033f792b7fa01572cc6446116ecae"
  },
  "kernelspec": {
   "display_name": "Python 3.8.12 ('p38')",
   "language": "python",
   "name": "python3"
  },
  "language_info": {
   "codemirror_mode": {
    "name": "ipython",
    "version": 3
   },
   "file_extension": ".py",
   "mimetype": "text/x-python",
   "name": "python",
   "nbconvert_exporter": "python",
   "pygments_lexer": "ipython3",
   "version": "3.8.12"
  }
 },
 "nbformat": 4,
 "nbformat_minor": 2
}
